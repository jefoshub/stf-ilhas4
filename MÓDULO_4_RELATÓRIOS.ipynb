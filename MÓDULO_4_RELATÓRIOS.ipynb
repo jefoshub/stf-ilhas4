{
  "nbformat": 4,
  "nbformat_minor": 0,
  "metadata": {
    "kernelspec": {
      "display_name": "Python 3",
      "language": "python",
      "name": "python3"
    },
    "language_info": {
      "codemirror_mode": {
        "name": "ipython",
        "version": 3
      },
      "file_extension": ".py",
      "mimetype": "text/x-python",
      "name": "python",
      "nbconvert_exporter": "python",
      "pygments_lexer": "ipython3",
      "version": "3.6.4"
    },
    "colab": {
      "provenance": [],
      "collapsed_sections": [],
      "include_colab_link": true
    }
  },
  "cells": [
    {
      "cell_type": "markdown",
      "metadata": {
        "id": "view-in-github",
        "colab_type": "text"
      },
      "source": [
        "<a href=\"https://colab.research.google.com/github/jefoshub/stf-ilhas4/blob/main/M%C3%93DULO_4_RELAT%C3%93RIOS.ipynb\" target=\"_parent\"><img src=\"https://colab.research.google.com/assets/colab-badge.svg\" alt=\"Open In Colab\"/></a>"
      ]
    },
    {
      "cell_type": "markdown",
      "source": [
        "# MÓDULO 4 - RELATÓRIOS"
      ],
      "metadata": {
        "id": "RfyCILp3oLXG"
      }
    },
    {
      "cell_type": "markdown",
      "metadata": {
        "id": "5cxeRFESJUAS"
      },
      "source": [
        "UFRRJ - MESTRADO INTERDISCIPLINAR EM HUMANIDADES DIGITAIS\n",
        "\n",
        "Jeferson dos Santos Antunes Huaracha (jefsantunes@gmail.com)\n",
        "\n",
        "Orientadores: Prof. Dr. Leandro Guimarães Marques Alvim \n",
        "              Prof. Dr. Rodrigo de Souza Tavares\n",
        "\n",
        "Última verificação do funcionamento: Outubro/22\n",
        "\n",
        "\n",
        "\n"
      ]
    },
    {
      "cell_type": "markdown",
      "source": [
        "**Sobre este módulo**\n",
        "\n",
        "Código desenvolvido para os fins da pesquisa\n",
        "\n",
        "**Ilhas, Arquipélagos ou Continentes? Uma Análise Sobre a Geografia do Supremo Tribunal Federal**\n",
        "\n",
        "Este módulo produz relatórios utilizados na pesquisa. \n",
        "\n",
        "Atua sobre todo o período investigado ou sobre os recortes temporais, de acordo com a opção selecionada;\n",
        "\n",
        "Produz rankings de votantes;\n",
        "\n",
        "Exclui ministros que votaram em menos de 30% das decisões em uma ou ambas as classes processuais. \n",
        "\n",
        "Como resultado da execução deste módulo tem-se arquivos com as pontuações dos ministros que votaram em 30% ou mais das votações de ADIs e HCs no período analisado. São produzidos arquivos para cada recorte processado.\n"
      ],
      "metadata": {
        "id": "kNgKVwT6obg8"
      }
    },
    {
      "cell_type": "markdown",
      "source": [
        "#Carregando e Preparando Dados"
      ],
      "metadata": {
        "id": "KSSf2TYTRKDf"
      }
    },
    {
      "cell_type": "code",
      "source": [
        "#Dados para criação dos arquivos de relatório (logs) e dataset (csv)\n",
        "from datetime import date, datetime\n",
        "\n",
        "data = datetime.today()\n",
        "hoje = data.strftime('%d-%m-%Y')\n",
        "#nome = 'ds-HCs'\n",
        "#extens = '.csv'\n",
        "\n",
        "#Criando arquivo de relatório\n",
        "linhas=[]\n",
        "linhas.append(f'### Relatório Sobre as Contagens de Votos de HCs e ADIs de 2011 a 2022- {hoje} ###')"
      ],
      "metadata": {
        "id": "lhArx0Hpzk24"
      },
      "execution_count": 1,
      "outputs": []
    },
    {
      "cell_type": "markdown",
      "source": [
        "#Seleção de Período\n"
      ],
      "metadata": {
        "id": "21kqyUfjRQRR"
      }
    },
    {
      "cell_type": "code",
      "source": [
        "choice ='0'\n",
        "#choice ='1'\n",
        "while choice =='0':\n",
        "    print(\"Escolha o período\")\n",
        "    print(\"1 - 2011 a 2013\")\n",
        "    print(\"2 - 2014 a 2016\")\n",
        "    print(\"3 - 2017 a 2019\")\n",
        "    print(\"4 - 2020 a 2022\")\n",
        "    print(\"5 - Todos\")\n",
        "    print(\"6 - Fictícia\")\n",
        "    print(\"7 - Perspectivas\")\n",
        "    \n",
        "    \n",
        "    choice = input (\"Digite o número e pressione ENTER : \")\n",
        "\n",
        "    if choice == \"1\":\n",
        "      print(\"Recorte 1\")\n",
        "      recorte='r1'\n",
        "      \n",
        "        \n",
        "    elif choice == \"2\":\n",
        "      print(\"Recorte 2\")\n",
        "      recorte='r2'\n",
        "        \n",
        "    elif choice == \"3\":\n",
        "      print(\"Recorte 3\")\n",
        "      recorte='r3'\n",
        "\n",
        "    elif choice == \"4\":\n",
        "      print(\"Recorte 4\")\n",
        "      recorte='r4'\n",
        "\n",
        "    elif choice == \"5\":\n",
        "      print(\"Todos\")\n",
        "      recorte='Todos'\n",
        "\n",
        "    elif choice == \"6\":\n",
        "      print(\"Fictícia\")\n",
        "      recorte='FIC'\n",
        "\n",
        "    #Para análise das perspectivas futuras - Apenas ADIs com Mendonça e Marques votando\n",
        "    elif choice == \"7\":\n",
        "      print(\"Perspectivas\")\n",
        "      recorte='PER'\n",
        "        \n",
        "    else:\n",
        "      print(\"opção Inválida\")"
      ],
      "metadata": {
        "id": "uWi6GGpgZ4Yr",
        "colab": {
          "base_uri": "https://localhost:8080/"
        },
        "outputId": "d3fb42ea-b80f-4ea3-f77d-c0272b32df8e"
      },
      "execution_count": 2,
      "outputs": [
        {
          "output_type": "stream",
          "name": "stdout",
          "text": [
            "Escolha o período\n",
            "1 - 2011 a 2013\n",
            "2 - 2014 a 2016\n",
            "3 - 2017 a 2019\n",
            "4 - 2020 a 2022\n",
            "5 - Todos\n",
            "6 - Fictícia\n",
            "7 - Perspectivas\n",
            "Digite o número e pressione ENTER : 5\n",
            "Todos\n"
          ]
        }
      ]
    },
    {
      "cell_type": "markdown",
      "source": [
        "# Carregando datasets"
      ],
      "metadata": {
        "id": "-vcQSj9csnb8"
      }
    },
    {
      "cell_type": "code",
      "source": [
        "import pandas as pd\n"
      ],
      "metadata": {
        "id": "32C5Xl5zy28R"
      },
      "execution_count": 3,
      "outputs": []
    },
    {
      "cell_type": "code",
      "source": [
        "#Este dataset é resultado da junção de um csv retirado do site do STF através de uma busca e de outro csv criado a partir da raspagem de dados no mesmo site.\n",
        "#df = pd.read_csv(\"/content/drive/MyDrive/Colab Notebooks/datasets/ds5.csv\", delimiter=\";\")\n",
        "#Dataset com dados extraídos do stf pelo csv produzido pelo próprio site mesclado com csv produzido com dados raspados \n",
        "\n",
        "if choice == '6':\n",
        "\n",
        "  print('Lendo Arquivo de Votos Fictícios')\n",
        "  dfH = pd.read_csv(\"ds-fic.csv\", sep=\";\")\n",
        "  dfA=dfH\n",
        "\n",
        "else:\n",
        "\n",
        "  print('Lendo arquivo de HCs')\n",
        "  dfH = pd.read_csv(\"ds-HCs-p.csv\", sep=\",\")\n",
        "\n",
        "  print('Lendo arquivo de ADIs')\n",
        "  dfA = pd.read_csv(\"ds-ADIs-p.csv\", sep=\",\")\n",
        "  \n",
        "\n"
      ],
      "metadata": {
        "id": "Tspor-Ye97FY",
        "colab": {
          "base_uri": "https://localhost:8080/"
        },
        "outputId": "9eda3802-f999-496a-b639-69e187fe08be"
      },
      "execution_count": 4,
      "outputs": [
        {
          "output_type": "stream",
          "name": "stdout",
          "text": [
            "Lendo arquivo de HCs\n",
            "Lendo arquivo de ADIs\n"
          ]
        }
      ]
    },
    {
      "cell_type": "code",
      "source": [
        "c_dfH=dfH.columns\n",
        "c_dfA=dfA.columns\n"
      ],
      "metadata": {
        "id": "gW2k7jIhmER7"
      },
      "execution_count": 5,
      "outputs": []
    },
    {
      "cell_type": "code",
      "source": [
        "#Carregando Dataset com lista de ministros e datas de início e fim de atuação no STF\n",
        "l_min=[]\n",
        "\n",
        "df2=pd.read_csv(\"MinistrosSTF.csv\",sep=\",\")\n",
        "#df2\n",
        "for m in range (0,len(df2)):\n",
        "  df2['Ministro nome'][m]=df2['Ministro nome'].str.upper()[m]\n",
        "  \n",
        "  if df2['Ministro nome'][m] in c_dfH or df2['Ministro nome'][m] in c_dfA:\n",
        "    l_min.append(df2['Ministro nome'][m])"
      ],
      "metadata": {
        "id": "6yMNHtH9sk5l",
        "colab": {
          "base_uri": "https://localhost:8080/"
        },
        "outputId": "f7743ed3-83b7-4e88-c2ac-43953db79065"
      },
      "execution_count": 8,
      "outputs": [
        {
          "output_type": "stream",
          "name": "stderr",
          "text": [
            "/usr/local/lib/python3.7/dist-packages/ipykernel_launcher.py:7: SettingWithCopyWarning: \n",
            "A value is trying to be set on a copy of a slice from a DataFrame\n",
            "\n",
            "See the caveats in the documentation: https://pandas.pydata.org/pandas-docs/stable/user_guide/indexing.html#returning-a-view-versus-a-copy\n",
            "  import sys\n"
          ]
        }
      ]
    },
    {
      "cell_type": "code",
      "source": [
        "if choice == '6':\n",
        "  l_min=['VISCONDE DE SABARÁ','JOSÉ HIGINO','ANDRÉ CAVALCANTI','SORIANO DE SOUSA','COSTA MANSO']"
      ],
      "metadata": {
        "id": "NgzTo9wqrcP6"
      },
      "execution_count": 9,
      "outputs": []
    },
    {
      "cell_type": "code",
      "source": [
        "l_min"
      ],
      "metadata": {
        "id": "ZtNtcjOirvIb",
        "colab": {
          "base_uri": "https://localhost:8080/"
        },
        "outputId": "d266ae28-d346-4b5d-80d5-9cd2318f8535"
      },
      "execution_count": 10,
      "outputs": [
        {
          "output_type": "execute_result",
          "data": {
            "text/plain": [
              "['NUNES MARQUES',\n",
              " 'ANDRÉ MENDONÇA',\n",
              " 'ALEXANDRE DE MORAES',\n",
              " 'DIAS TOFFOLI',\n",
              " 'ROBERTO BARROSO',\n",
              " 'EDSON FACHIN',\n",
              " 'GILMAR MENDES',\n",
              " 'CÁRMEN LÚCIA',\n",
              " 'LUIZ FUX',\n",
              " 'RICARDO LEWANDOWSKI',\n",
              " 'ROSA WEBER',\n",
              " 'MARCO AURÉLIO',\n",
              " 'CELSO DE MELLO',\n",
              " 'TEORI ZAVASCKI',\n",
              " 'JOAQUIM BARBOSA',\n",
              " 'AYRES BRITTO',\n",
              " 'CEZAR PELUSO',\n",
              " 'ELLEN GRACIE',\n",
              " 'EROS GRAU',\n",
              " 'MENEZES DIREITO',\n",
              " 'SEPÚLVEDA PERTENCE',\n",
              " 'NELSON JOBIM',\n",
              " 'CARLOS VELLOSO',\n",
              " 'MAURÍCIO CORRÊA',\n",
              " 'NÉRI DA SILVEIRA']"
            ]
          },
          "metadata": {},
          "execution_count": 10
        }
      ]
    },
    {
      "cell_type": "code",
      "source": [
        "if choice != '6':\n",
        "\n",
        "  for m in range (0,len(df2)):\n",
        "    ministro=df2['Ministro nome'][m]\n",
        "    if ministro not in dfA:\n",
        "      dfA.insert(len(dfA.columns), ministro, 0)\n",
        "\n",
        "    if ministro not in dfH:\n",
        "      dfH.insert(len(dfH.columns), ministro, 0)"
      ],
      "metadata": {
        "id": "9Okt_mysoO-U"
      },
      "execution_count": 11,
      "outputs": []
    },
    {
      "cell_type": "markdown",
      "source": [
        "#Filtrando Períodos"
      ],
      "metadata": {
        "id": "TCjCD2OVY2xD"
      }
    },
    {
      "cell_type": "code",
      "source": [
        "if choice =='1':\n",
        "  dfH_temp = dfH.loc[(dfH['Data de julgamento'] >= '2011-01-01')]\n",
        "  dfH_temp = dfH_temp.loc[(dfH_temp['Data de julgamento'] <= '2013-12-31')]\n",
        "  dfA_temp = dfA.loc[(dfA['Data de julgamento'] >= '2011-01-01')]\n",
        "  dfA_temp = dfA_temp.loc[(dfA_temp['Data de julgamento'] <= '2013-12-31')]\n",
        " \n",
        "\n",
        "elif choice == \"2\":\n",
        "\n",
        "  dfH_temp = dfH.loc[(dfH['Data de julgamento'] >= '2014-01-01')]\n",
        "  dfH_temp = dfH_temp.loc[(dfH_temp['Data de julgamento'] <= '2016-12-31')]\n",
        "  dfA_temp = dfA.loc[(dfA['Data de julgamento'] >= '2014-01-01')]\n",
        "  dfA_temp = dfA_temp.loc[(dfA_temp['Data de julgamento'] <= '2016-12-31')]\n",
        "\n",
        "\n",
        "elif choice == \"3\":\n",
        "  dfH_temp = dfH.loc[(dfH['Data de julgamento'] >= '2017-01-01')]\n",
        "  dfH_temp = dfH_temp.loc[(dfH_temp['Data de julgamento'] <= '2019-12-31')]\n",
        "  dfA_temp = dfA.loc[(dfA['Data de julgamento'] >= '2017-01-01')]\n",
        "  dfA_temp = dfA_temp.loc[(dfA_temp['Data de julgamento'] <= '2019-12-31')]\n",
        "\n",
        "\n",
        "elif choice == \"4\":\n",
        "  dfH_temp = dfH.loc[(dfH['Data de julgamento'] >= '2020-01-01')]\n",
        "  dfH_temp = dfH_temp.loc[(dfH_temp['Data de julgamento'] <= '2022-12-31')]\n",
        "  dfA_temp = dfA.loc[(dfA['Data de julgamento'] >= '2020-01-01')]\n",
        "  dfA_temp = dfA_temp.loc[(dfA_temp['Data de julgamento'] <= '2022-12-31')]\n",
        "\n",
        "\n",
        "elif choice == \"5\" or choice == \"6\":\n",
        "  dfH_temp = dfH\n",
        "  dfA_temp = dfA\n",
        "\n",
        "  \n",
        "elif choice == \"7\":\n",
        "  dfA_temp = dfA.loc[(dfA['Data de julgamento'] >= '2020-01-01')]\n",
        "  dfA_temp = dfA_temp.loc[(dfA_temp['Data de julgamento'] <= '2022-12-31')]\n",
        "  dfA_temp = dfA_temp.loc[(dfA_temp['ANDRÉ MENDONÇA'] != 0)] \n",
        "  dfH_temp=dfA_temp.rename(columns={'ADI': 'HC'})\n"
      ],
      "metadata": {
        "id": "0VgU7UaRYva3"
      },
      "execution_count": 12,
      "outputs": []
    },
    {
      "cell_type": "code",
      "source": [
        "dfA_temp.columns"
      ],
      "metadata": {
        "colab": {
          "base_uri": "https://localhost:8080/"
        },
        "id": "_X6MXezlv4mM",
        "outputId": "0eb6b9ba-21ae-4199-ec0e-b483df1f43a4"
      },
      "execution_count": 13,
      "outputs": [
        {
          "output_type": "execute_result",
          "data": {
            "text/plain": [
              "Index(['ADI', 'Data de julgamento', 'Unanimidade', 'Informacoes', 'Vencedores',\n",
              "       'Vencidos', 'Tipo', 'Pleito Analisado', 'NUNES MARQUES',\n",
              "       'ANDRÉ MENDONÇA', 'ALEXANDRE DE MORAES', 'DIAS TOFFOLI',\n",
              "       'ROBERTO BARROSO', 'EDSON FACHIN', 'GILMAR MENDES', 'CÁRMEN LÚCIA',\n",
              "       'LUIZ FUX', 'RICARDO LEWANDOWSKI', 'ROSA WEBER', 'MARCO AURÉLIO',\n",
              "       'CELSO DE MELLO', 'TEORI ZAVASCKI', 'JOAQUIM BARBOSA', 'AYRES BRITTO',\n",
              "       'CEZAR PELUSO', 'ELLEN GRACIE', 'EROS GRAU', 'MENEZES DIREITO',\n",
              "       'SEPÚLVEDA PERTENCE', 'NELSON JOBIM', 'CARLOS VELLOSO',\n",
              "       'MAURÍCIO CORRÊA', 'NÉRI DA SILVEIRA', 'ILMAR GALVÃO', 'SYDNEY SANCHES',\n",
              "       'MOREIRA ALVES', 'OCTAVIO GALLOTTI', 'FRANCISCO REZEK'],\n",
              "      dtype='object')"
            ]
          },
          "metadata": {},
          "execution_count": 13
        }
      ]
    },
    {
      "cell_type": "code",
      "source": [
        "dfH_temp.columns"
      ],
      "metadata": {
        "colab": {
          "base_uri": "https://localhost:8080/"
        },
        "id": "Y3dJYk8Av7ZL",
        "outputId": "f949c793-5f3b-4d20-f670-7b7255c38962"
      },
      "execution_count": 14,
      "outputs": [
        {
          "output_type": "execute_result",
          "data": {
            "text/plain": [
              "Index(['HC', 'Data de julgamento', 'Unanimidade', 'Informacoes', 'Vencedores',\n",
              "       'Vencidos', 'Tipo', 'Pleito Analisado', 'NUNES MARQUES',\n",
              "       'ANDRÉ MENDONÇA', 'ALEXANDRE DE MORAES', 'DIAS TOFFOLI',\n",
              "       'ROBERTO BARROSO', 'EDSON FACHIN', 'GILMAR MENDES', 'CÁRMEN LÚCIA',\n",
              "       'LUIZ FUX', 'RICARDO LEWANDOWSKI', 'ROSA WEBER', 'MARCO AURÉLIO',\n",
              "       'CELSO DE MELLO', 'TEORI ZAVASCKI', 'JOAQUIM BARBOSA', 'AYRES BRITTO',\n",
              "       'CEZAR PELUSO', 'ELLEN GRACIE', 'EROS GRAU', 'MENEZES DIREITO',\n",
              "       'SEPÚLVEDA PERTENCE', 'NELSON JOBIM', 'CARLOS VELLOSO',\n",
              "       'MAURÍCIO CORRÊA', 'ILMAR GALVÃO', 'SYDNEY SANCHES', 'MOREIRA ALVES',\n",
              "       'NÉRI DA SILVEIRA', 'OCTAVIO GALLOTTI', 'FRANCISCO REZEK'],\n",
              "      dtype='object')"
            ]
          },
          "metadata": {},
          "execution_count": 14
        }
      ]
    },
    {
      "cell_type": "markdown",
      "source": [
        "#Criando dataframe sobre os votos dos ministros\n"
      ],
      "metadata": {
        "id": "0_Onaf2R8koH"
      }
    },
    {
      "cell_type": "code",
      "source": [
        "l_min_H=dfH_temp.columns"
      ],
      "metadata": {
        "id": "UXm5NGJP0tTc"
      },
      "execution_count": 15,
      "outputs": []
    },
    {
      "cell_type": "code",
      "source": [
        "l_min_A=dfA_temp.columns"
      ],
      "metadata": {
        "id": "vcidxJqk03az"
      },
      "execution_count": 16,
      "outputs": []
    },
    {
      "cell_type": "code",
      "source": [
        "df_min = pd.DataFrame(l_min)\n",
        "df_min.rename(columns={0:'Ministros'}, inplace=True)\n",
        "df_min.insert(len(df_min.columns), 'Votos HCs', 0)\n",
        "df_min.insert(len(df_min.columns), 'Percent HCs', 0)\n",
        "df_min.insert(len(df_min.columns), 'Votos ADIs', 0)\n",
        "df_min.insert(len(df_min.columns), 'Percent ADIs', 0)"
      ],
      "metadata": {
        "id": "Xt-SI7VXwrwp"
      },
      "execution_count": 17,
      "outputs": []
    },
    {
      "cell_type": "code",
      "source": [
        "l_min_H=dfH_temp.columns"
      ],
      "metadata": {
        "id": "gRPALnQXXK1g"
      },
      "execution_count": 18,
      "outputs": []
    },
    {
      "cell_type": "code",
      "source": [
        "l_min_A=dfA_temp.columns"
      ],
      "metadata": {
        "id": "WbdWx5i4XK1g"
      },
      "execution_count": 19,
      "outputs": []
    },
    {
      "cell_type": "code",
      "source": [
        "#Calculando Totais de Votos por Ministros\n",
        "for m in range (0,len(l_min)):\n",
        "  ministro=l_min[m]\n",
        "  df_min['Votos HCs'][m]=dfH_temp[ministro].astype(bool).sum(axis=0)\n",
        "\n",
        "for m in range (0,len(l_min)):\n",
        "  ministro=l_min[m]\n",
        "  df_min['Votos ADIs'][m]=dfA_temp[ministro].astype(bool).sum(axis=0)"
      ],
      "metadata": {
        "id": "JgVmRvGEhaRy",
        "colab": {
          "base_uri": "https://localhost:8080/"
        },
        "outputId": "3baa90df-9aa6-4a63-80ee-eed49f9412c3"
      },
      "execution_count": 20,
      "outputs": [
        {
          "output_type": "stream",
          "name": "stderr",
          "text": [
            "/usr/local/lib/python3.7/dist-packages/ipykernel_launcher.py:4: SettingWithCopyWarning: \n",
            "A value is trying to be set on a copy of a slice from a DataFrame\n",
            "\n",
            "See the caveats in the documentation: https://pandas.pydata.org/pandas-docs/stable/user_guide/indexing.html#returning-a-view-versus-a-copy\n",
            "  after removing the cwd from sys.path.\n",
            "/usr/local/lib/python3.7/dist-packages/ipykernel_launcher.py:8: SettingWithCopyWarning: \n",
            "A value is trying to be set on a copy of a slice from a DataFrame\n",
            "\n",
            "See the caveats in the documentation: https://pandas.pydata.org/pandas-docs/stable/user_guide/indexing.html#returning-a-view-versus-a-copy\n",
            "  \n"
          ]
        }
      ]
    },
    {
      "cell_type": "markdown",
      "source": [
        "# Totais\n"
      ],
      "metadata": {
        "id": "GsMioeXqt4_x"
      }
    },
    {
      "cell_type": "code",
      "source": [
        "print('Total de ADIs:')\n",
        "print(len(dfA_temp))\n",
        "print('')\n",
        "print('Total de HCs:')\n",
        "print(len(dfH_temp))\n"
      ],
      "metadata": {
        "id": "bnFwLWXe9KJn",
        "colab": {
          "base_uri": "https://localhost:8080/"
        },
        "outputId": "38fd645a-21ce-4015-aa7b-64101f4f7256"
      },
      "execution_count": 21,
      "outputs": [
        {
          "output_type": "stream",
          "name": "stdout",
          "text": [
            "Total de ADIs:\n",
            "1576\n",
            "\n",
            "Total de HCs:\n",
            "208\n"
          ]
        }
      ]
    },
    {
      "cell_type": "markdown",
      "source": [],
      "metadata": {
        "id": "uI6c7RaBWzJ3"
      }
    },
    {
      "cell_type": "markdown",
      "source": [
        "#Datas"
      ],
      "metadata": {
        "id": "bGRuOSZeDrj0"
      }
    },
    {
      "cell_type": "code",
      "source": [
        "dfA_temp['Data de julgamento'].min()\n"
      ],
      "metadata": {
        "id": "edOd6rFuEk9N",
        "colab": {
          "base_uri": "https://localhost:8080/",
          "height": 35
        },
        "outputId": "5cc521d9-494b-4016-ae5a-00610a9de932"
      },
      "execution_count": 22,
      "outputs": [
        {
          "output_type": "execute_result",
          "data": {
            "text/plain": [
              "'2011-02-03'"
            ],
            "application/vnd.google.colaboratory.intrinsic+json": {
              "type": "string"
            }
          },
          "metadata": {},
          "execution_count": 22
        }
      ]
    },
    {
      "cell_type": "code",
      "source": [
        "dfA_temp['Data de julgamento'].max()"
      ],
      "metadata": {
        "id": "GxocJQx_E-KY",
        "colab": {
          "base_uri": "https://localhost:8080/",
          "height": 35
        },
        "outputId": "11d86179-986e-40b8-c05b-4cdeb95641a3"
      },
      "execution_count": 23,
      "outputs": [
        {
          "output_type": "execute_result",
          "data": {
            "text/plain": [
              "'2022-06-27'"
            ],
            "application/vnd.google.colaboratory.intrinsic+json": {
              "type": "string"
            }
          },
          "metadata": {},
          "execution_count": 23
        }
      ]
    },
    {
      "cell_type": "code",
      "source": [
        "dfH_temp['Data de julgamento'].min()"
      ],
      "metadata": {
        "id": "YXtii3CaDu4M",
        "colab": {
          "base_uri": "https://localhost:8080/",
          "height": 35
        },
        "outputId": "752a050e-ed82-4d35-c439-37420d3bf854"
      },
      "execution_count": 24,
      "outputs": [
        {
          "output_type": "execute_result",
          "data": {
            "text/plain": [
              "'2011-03-02'"
            ],
            "application/vnd.google.colaboratory.intrinsic+json": {
              "type": "string"
            }
          },
          "metadata": {},
          "execution_count": 24
        }
      ]
    },
    {
      "cell_type": "code",
      "source": [
        "dfH_temp['Data de julgamento'].max()"
      ],
      "metadata": {
        "id": "0y6rm06ZElH7",
        "colab": {
          "base_uri": "https://localhost:8080/",
          "height": 35
        },
        "outputId": "0cef9a29-fe42-4ede-d292-001ad9e47b15"
      },
      "execution_count": 25,
      "outputs": [
        {
          "output_type": "execute_result",
          "data": {
            "text/plain": [
              "'2022-06-06'"
            ],
            "application/vnd.google.colaboratory.intrinsic+json": {
              "type": "string"
            }
          },
          "metadata": {},
          "execution_count": 25
        }
      ]
    },
    {
      "cell_type": "markdown",
      "source": [
        "# Unanimidades X Dissidências"
      ],
      "metadata": {
        "id": "xsjZGlg4uv2r"
      }
    },
    {
      "cell_type": "code",
      "source": [
        "print('*'*100)\n",
        "print('ADIs')\n",
        "print('-'*100)\n",
        "adi_un=(dfA_temp.filter(like='Unanimidade').sum(axis=1) == 'Sim').sum()\n",
        "adi_nu=(dfA_temp.filter(like='Unanimidade').sum(axis=1) == 'Não').sum()\n",
        "print('Unânimes: ',adi_un)\n",
        "print(adi_un*100/(len(dfA_temp)),'%')\n",
        "print('*'*40)\n",
        "print('Não Unânimes: ',adi_nu)\n",
        "print(adi_nu*100/(len(dfA_temp)),'%')"
      ],
      "metadata": {
        "id": "tuY58Eb3L4sg",
        "colab": {
          "base_uri": "https://localhost:8080/"
        },
        "outputId": "fba4fcfb-2653-432d-80c8-73da21c6263c"
      },
      "execution_count": 26,
      "outputs": [
        {
          "output_type": "stream",
          "name": "stdout",
          "text": [
            "****************************************************************************************************\n",
            "ADIs\n",
            "----------------------------------------------------------------------------------------------------\n",
            "Unânimes:  959\n",
            "60.8502538071066 %\n",
            "****************************************\n",
            "Não Unânimes:  617\n",
            "39.1497461928934 %\n"
          ]
        }
      ]
    },
    {
      "cell_type": "code",
      "source": [
        "#Outra forma de contar\n",
        "dfA_temp['Unanimidade'].value_counts()"
      ],
      "metadata": {
        "id": "oQctMLeZYSPJ",
        "colab": {
          "base_uri": "https://localhost:8080/"
        },
        "outputId": "2fe78f44-cafd-46b3-b87f-14c6c8de6545"
      },
      "execution_count": 27,
      "outputs": [
        {
          "output_type": "execute_result",
          "data": {
            "text/plain": [
              "Sim    959\n",
              "Não    617\n",
              "Name: Unanimidade, dtype: int64"
            ]
          },
          "metadata": {},
          "execution_count": 27
        }
      ]
    },
    {
      "cell_type": "code",
      "source": [
        "print('*'*100)\n",
        "print('HABEAS CORPUS')\n",
        "print('-'*100)\n",
        "hc_un=(dfH_temp.filter(like='Unanimidade').sum(axis=1) == 'Sim').sum()\n",
        "hc_nu=(dfH_temp.filter(like='Unanimidade').sum(axis=1) == 'Não').sum()\n",
        "print('Unânimes: ',hc_un)\n",
        "print(hc_un*100/(len(dfH_temp)),'%')\n",
        "print('*'*40)\n",
        "print('Não Unânimes: ',hc_nu)\n",
        "print(hc_nu*100/(len(dfH_temp)),'%')"
      ],
      "metadata": {
        "id": "qOrZWm6dvk_V",
        "colab": {
          "base_uri": "https://localhost:8080/"
        },
        "outputId": "9fedd705-cd44-48df-aca8-4a465600a563"
      },
      "execution_count": 28,
      "outputs": [
        {
          "output_type": "stream",
          "name": "stdout",
          "text": [
            "****************************************************************************************************\n",
            "HABEAS CORPUS\n",
            "----------------------------------------------------------------------------------------------------\n",
            "Unânimes:  93\n",
            "44.71153846153846 %\n",
            "****************************************\n",
            "Não Unânimes:  115\n",
            "55.28846153846154 %\n"
          ]
        }
      ]
    },
    {
      "cell_type": "code",
      "source": [
        "#Outra forma de contar\n",
        "dfH_temp['Unanimidade'].value_counts()"
      ],
      "metadata": {
        "id": "HV5wdS7OXq8_",
        "colab": {
          "base_uri": "https://localhost:8080/"
        },
        "outputId": "0326ec12-5111-4a04-e921-897690c4feac"
      },
      "execution_count": 29,
      "outputs": [
        {
          "output_type": "execute_result",
          "data": {
            "text/plain": [
              "Não    115\n",
              "Sim     93\n",
              "Name: Unanimidade, dtype: int64"
            ]
          },
          "metadata": {},
          "execution_count": 29
        }
      ]
    },
    {
      "cell_type": "markdown",
      "source": [
        "# Contagens de vencidos (para melhor compreensão do nível de dissidências)"
      ],
      "metadata": {
        "id": "jBQnW9B9x-JA"
      }
    },
    {
      "cell_type": "code",
      "source": [
        "df1A=dfA_temp.loc[(dfA_temp['Vencidos'] == 1, )]"
      ],
      "metadata": {
        "id": "6btNJUV-Koqq"
      },
      "execution_count": 30,
      "outputs": []
    },
    {
      "cell_type": "code",
      "source": [
        "df1A['MARCO AURÉLIO'].value_counts()"
      ],
      "metadata": {
        "id": "gwLqlWx5L_21",
        "colab": {
          "base_uri": "https://localhost:8080/"
        },
        "outputId": "1d29a467-272b-4247-fb13-e194fdd39d49"
      },
      "execution_count": 31,
      "outputs": [
        {
          "output_type": "execute_result",
          "data": {
            "text/plain": [
              "-1    190\n",
              " 1     75\n",
              " 0     23\n",
              "Name: MARCO AURÉLIO, dtype: int64"
            ]
          },
          "metadata": {},
          "execution_count": 31
        }
      ]
    },
    {
      "cell_type": "code",
      "source": [
        "df1H=dfH_temp.loc[(dfH_temp['Vencidos'] == 1, )]"
      ],
      "metadata": {
        "id": "wj_6zV0XMiCO"
      },
      "execution_count": 32,
      "outputs": []
    },
    {
      "cell_type": "code",
      "source": [
        "df1H['MARCO AURÉLIO'].value_counts()"
      ],
      "metadata": {
        "id": "oae0LKpKMpq-",
        "colab": {
          "base_uri": "https://localhost:8080/"
        },
        "outputId": "354a2c27-6504-4f2e-e161-45bdf8a81ffb"
      },
      "execution_count": 33,
      "outputs": [
        {
          "output_type": "execute_result",
          "data": {
            "text/plain": [
              "-1    71\n",
              " 1     4\n",
              " 0     1\n",
              "Name: MARCO AURÉLIO, dtype: int64"
            ]
          },
          "metadata": {},
          "execution_count": 33
        }
      ]
    },
    {
      "cell_type": "code",
      "source": [
        "print('Majoritárias ADIs: ',adi_nu)"
      ],
      "metadata": {
        "id": "3l0VpJTcq3Eg",
        "colab": {
          "base_uri": "https://localhost:8080/"
        },
        "outputId": "e828be5b-1598-4c19-ed15-1a978281ea81"
      },
      "execution_count": 34,
      "outputs": [
        {
          "output_type": "stream",
          "name": "stdout",
          "text": [
            "Majoritárias ADIs:  617\n"
          ]
        }
      ]
    },
    {
      "cell_type": "code",
      "source": [
        "dfA_temp['Vencidos'].value_counts()"
      ],
      "metadata": {
        "id": "iUU-MokHa5YI",
        "colab": {
          "base_uri": "https://localhost:8080/"
        },
        "outputId": "e88fc127-5f85-4116-e0cf-17177ed67adb"
      },
      "execution_count": 35,
      "outputs": [
        {
          "output_type": "execute_result",
          "data": {
            "text/plain": [
              "0    959\n",
              "1    288\n",
              "2    134\n",
              "3     88\n",
              "4     59\n",
              "5     48\n",
              "Name: Vencidos, dtype: int64"
            ]
          },
          "metadata": {},
          "execution_count": 35
        }
      ]
    },
    {
      "cell_type": "code",
      "source": [
        "dfA_temp['Vencidos'].value_counts(normalize=True)"
      ],
      "metadata": {
        "id": "Ep3uL78whkAz",
        "colab": {
          "base_uri": "https://localhost:8080/"
        },
        "outputId": "838f0a10-8d5f-4a14-b1f2-966f41215cd6"
      },
      "execution_count": 36,
      "outputs": [
        {
          "output_type": "execute_result",
          "data": {
            "text/plain": [
              "0    0.608503\n",
              "1    0.182741\n",
              "2    0.085025\n",
              "3    0.055838\n",
              "4    0.037437\n",
              "5    0.030457\n",
              "Name: Vencidos, dtype: float64"
            ]
          },
          "metadata": {},
          "execution_count": 36
        }
      ]
    },
    {
      "cell_type": "code",
      "source": [
        "dfH_temp['Vencidos'].value_counts()\n"
      ],
      "metadata": {
        "id": "_BDHegGDZrBU",
        "colab": {
          "base_uri": "https://localhost:8080/"
        },
        "outputId": "6527bb7a-8314-4ef9-c4a9-50f64973d3c4"
      },
      "execution_count": 37,
      "outputs": [
        {
          "output_type": "execute_result",
          "data": {
            "text/plain": [
              "0    93\n",
              "1    76\n",
              "2    14\n",
              "3    11\n",
              "4     8\n",
              "5     6\n",
              "Name: Vencidos, dtype: int64"
            ]
          },
          "metadata": {},
          "execution_count": 37
        }
      ]
    },
    {
      "cell_type": "code",
      "source": [
        "dfH_temp['Vencidos'].value_counts(normalize=True)"
      ],
      "metadata": {
        "id": "gH2QAmNcbhtB",
        "colab": {
          "base_uri": "https://localhost:8080/"
        },
        "outputId": "e7ada070-5c01-4491-895b-636d2c367fab"
      },
      "execution_count": 38,
      "outputs": [
        {
          "output_type": "execute_result",
          "data": {
            "text/plain": [
              "0    0.447115\n",
              "1    0.365385\n",
              "2    0.067308\n",
              "3    0.052885\n",
              "4    0.038462\n",
              "5    0.028846\n",
              "Name: Vencidos, dtype: float64"
            ]
          },
          "metadata": {},
          "execution_count": 38
        }
      ]
    },
    {
      "cell_type": "code",
      "source": [
        "total_vot_H=len(dfH_temp)\n",
        "print('Total de votações de Habeas Corpus: ',total_vot_H)\n",
        "total_vot_A=len(dfA_temp)\n",
        "print('Total de votações de ADIs: ',total_vot_A)"
      ],
      "metadata": {
        "id": "PJVfdlPhyFt8",
        "colab": {
          "base_uri": "https://localhost:8080/"
        },
        "outputId": "2ef042b9-f2a1-4b74-e63b-5055be9b0b26"
      },
      "execution_count": 39,
      "outputs": [
        {
          "output_type": "stream",
          "name": "stdout",
          "text": [
            "Total de votações de Habeas Corpus:  208\n",
            "Total de votações de ADIs:  1576\n"
          ]
        }
      ]
    },
    {
      "cell_type": "code",
      "source": [
        "dfH_temp['Vencidos'].value_counts(normalize=True)"
      ],
      "metadata": {
        "id": "3gYFcGxybiwy",
        "colab": {
          "base_uri": "https://localhost:8080/"
        },
        "outputId": "fddcfdc1-d8f6-471f-936b-7170f1d3a3ec"
      },
      "execution_count": 40,
      "outputs": [
        {
          "output_type": "execute_result",
          "data": {
            "text/plain": [
              "0    0.447115\n",
              "1    0.365385\n",
              "2    0.067308\n",
              "3    0.052885\n",
              "4    0.038462\n",
              "5    0.028846\n",
              "Name: Vencidos, dtype: float64"
            ]
          },
          "metadata": {},
          "execution_count": 40
        }
      ]
    },
    {
      "cell_type": "markdown",
      "source": [
        "#Criando Tabela - Ranking de Votantes"
      ],
      "metadata": {
        "id": "00eJpr8nRj1O"
      }
    },
    {
      "cell_type": "code",
      "source": [
        "#Calculando Percentuais de votação\n",
        "for m in range (0,len(l_min)):\n",
        "  ministro=l_min[m]\n",
        "  for c in range (0,len(dfH_temp)):\n",
        "    #if ministro in l_min_H:\n",
        "    df_min['Percent HCs'][m]=df_min['Votos HCs'][m]*100/total_vot_H\n",
        "      \n",
        "  for c in range (0,len(dfA_temp)):\n",
        "    #if ministro in l_min_A:\n",
        "    df_min['Percent ADIs'][m]=df_min['Votos ADIs'][m]*100/total_vot_A"
      ],
      "metadata": {
        "id": "Ysjyg5NV403-",
        "colab": {
          "base_uri": "https://localhost:8080/"
        },
        "outputId": "4a3d5a09-26b9-4691-af85-26e004241fc5"
      },
      "execution_count": 41,
      "outputs": [
        {
          "output_type": "stream",
          "name": "stderr",
          "text": [
            "/usr/local/lib/python3.7/dist-packages/ipykernel_launcher.py:6: SettingWithCopyWarning: \n",
            "A value is trying to be set on a copy of a slice from a DataFrame\n",
            "\n",
            "See the caveats in the documentation: https://pandas.pydata.org/pandas-docs/stable/user_guide/indexing.html#returning-a-view-versus-a-copy\n",
            "  \n",
            "/usr/local/lib/python3.7/dist-packages/ipykernel_launcher.py:10: SettingWithCopyWarning: \n",
            "A value is trying to be set on a copy of a slice from a DataFrame\n",
            "\n",
            "See the caveats in the documentation: https://pandas.pydata.org/pandas-docs/stable/user_guide/indexing.html#returning-a-view-versus-a-copy\n",
            "  # Remove the CWD from sys.path while we load stuff.\n"
          ]
        }
      ]
    },
    {
      "cell_type": "code",
      "source": [
        "df_min['Soma']=df_min['Votos HCs']+df_min['Votos ADIs']"
      ],
      "metadata": {
        "id": "BNC0A_oxrZtg"
      },
      "execution_count": 42,
      "outputs": []
    },
    {
      "cell_type": "code",
      "source": [
        "df_min=df_min.sort_values(by='Soma', ascending=False)"
      ],
      "metadata": {
        "id": "zhcKOHlDrlsJ"
      },
      "execution_count": 43,
      "outputs": []
    },
    {
      "cell_type": "code",
      "source": [
        "df_min2=df_min[df_min['Soma']>0]\n",
        "df_min=df_min2.loc[:, df_min2.columns!='Soma']"
      ],
      "metadata": {
        "id": "zj2sZFY7rz7M"
      },
      "execution_count": 44,
      "outputs": []
    },
    {
      "cell_type": "code",
      "source": [
        "df_min = df_min.reset_index(drop=True)\\"
      ],
      "metadata": {
        "id": "SZYnkEWqA8t8"
      },
      "execution_count": 45,
      "outputs": []
    },
    {
      "cell_type": "markdown",
      "source": [
        "# Tabela de votações"
      ],
      "metadata": {
        "id": "9z5Dv_dAOIVQ"
      }
    },
    {
      "cell_type": "code",
      "source": [
        "df_min"
      ],
      "metadata": {
        "id": "M60XUkaMBQpY",
        "colab": {
          "base_uri": "https://localhost:8080/",
          "height": 802
        },
        "outputId": "875bc7be-935c-46b3-8e5c-229eb6d2c2f3"
      },
      "execution_count": 46,
      "outputs": [
        {
          "output_type": "execute_result",
          "data": {
            "text/plain": [
              "              Ministros  Votos HCs  Percent HCs  Votos ADIs  Percent ADIs\n",
              "0   RICARDO LEWANDOWSKI        197           94        1498            95\n",
              "1              LUIZ FUX        195           93        1493            94\n",
              "2            ROSA WEBER        193           92        1486            94\n",
              "3          CÁRMEN LÚCIA        188           90        1480            93\n",
              "4          DIAS TOFFOLI        200           96        1446            91\n",
              "5         GILMAR MENDES        187           89        1453            92\n",
              "6       ROBERTO BARROSO        173           83        1380            87\n",
              "7         MARCO AURÉLIO        188           90        1325            84\n",
              "8          EDSON FACHIN        147           70        1320            83\n",
              "9   ALEXANDRE DE MORAES        104           50        1216            77\n",
              "10       CELSO DE MELLO        131           62         696            44\n",
              "11        NUNES MARQUES         41           19         439            27\n",
              "12       TEORI ZAVASCKI         70           33         248            15\n",
              "13      JOAQUIM BARBOSA         43           20         126             7\n",
              "14         AYRES BRITTO         18            8         100             6\n",
              "15       ANDRÉ MENDONÇA          5            2         108             6\n",
              "16         CEZAR PELUSO         15            7          97             6\n",
              "17         ELLEN GRACIE          3            1          64             4\n",
              "18            EROS GRAU          1            0          12             0\n",
              "19      MENEZES DIREITO          1            0          10             0\n",
              "20   SEPÚLVEDA PERTENCE          1            0           6             0\n",
              "21         NELSON JOBIM          0            0           6             0\n",
              "22       CARLOS VELLOSO          0            0           5             0\n",
              "23      MAURÍCIO CORRÊA          0            0           1             0"
            ],
            "text/html": [
              "\n",
              "  <div id=\"df-cc4a5512-2d6a-4e78-af1d-cc702f7fe33a\">\n",
              "    <div class=\"colab-df-container\">\n",
              "      <div>\n",
              "<style scoped>\n",
              "    .dataframe tbody tr th:only-of-type {\n",
              "        vertical-align: middle;\n",
              "    }\n",
              "\n",
              "    .dataframe tbody tr th {\n",
              "        vertical-align: top;\n",
              "    }\n",
              "\n",
              "    .dataframe thead th {\n",
              "        text-align: right;\n",
              "    }\n",
              "</style>\n",
              "<table border=\"1\" class=\"dataframe\">\n",
              "  <thead>\n",
              "    <tr style=\"text-align: right;\">\n",
              "      <th></th>\n",
              "      <th>Ministros</th>\n",
              "      <th>Votos HCs</th>\n",
              "      <th>Percent HCs</th>\n",
              "      <th>Votos ADIs</th>\n",
              "      <th>Percent ADIs</th>\n",
              "    </tr>\n",
              "  </thead>\n",
              "  <tbody>\n",
              "    <tr>\n",
              "      <th>0</th>\n",
              "      <td>RICARDO LEWANDOWSKI</td>\n",
              "      <td>197</td>\n",
              "      <td>94</td>\n",
              "      <td>1498</td>\n",
              "      <td>95</td>\n",
              "    </tr>\n",
              "    <tr>\n",
              "      <th>1</th>\n",
              "      <td>LUIZ FUX</td>\n",
              "      <td>195</td>\n",
              "      <td>93</td>\n",
              "      <td>1493</td>\n",
              "      <td>94</td>\n",
              "    </tr>\n",
              "    <tr>\n",
              "      <th>2</th>\n",
              "      <td>ROSA WEBER</td>\n",
              "      <td>193</td>\n",
              "      <td>92</td>\n",
              "      <td>1486</td>\n",
              "      <td>94</td>\n",
              "    </tr>\n",
              "    <tr>\n",
              "      <th>3</th>\n",
              "      <td>CÁRMEN LÚCIA</td>\n",
              "      <td>188</td>\n",
              "      <td>90</td>\n",
              "      <td>1480</td>\n",
              "      <td>93</td>\n",
              "    </tr>\n",
              "    <tr>\n",
              "      <th>4</th>\n",
              "      <td>DIAS TOFFOLI</td>\n",
              "      <td>200</td>\n",
              "      <td>96</td>\n",
              "      <td>1446</td>\n",
              "      <td>91</td>\n",
              "    </tr>\n",
              "    <tr>\n",
              "      <th>5</th>\n",
              "      <td>GILMAR MENDES</td>\n",
              "      <td>187</td>\n",
              "      <td>89</td>\n",
              "      <td>1453</td>\n",
              "      <td>92</td>\n",
              "    </tr>\n",
              "    <tr>\n",
              "      <th>6</th>\n",
              "      <td>ROBERTO BARROSO</td>\n",
              "      <td>173</td>\n",
              "      <td>83</td>\n",
              "      <td>1380</td>\n",
              "      <td>87</td>\n",
              "    </tr>\n",
              "    <tr>\n",
              "      <th>7</th>\n",
              "      <td>MARCO AURÉLIO</td>\n",
              "      <td>188</td>\n",
              "      <td>90</td>\n",
              "      <td>1325</td>\n",
              "      <td>84</td>\n",
              "    </tr>\n",
              "    <tr>\n",
              "      <th>8</th>\n",
              "      <td>EDSON FACHIN</td>\n",
              "      <td>147</td>\n",
              "      <td>70</td>\n",
              "      <td>1320</td>\n",
              "      <td>83</td>\n",
              "    </tr>\n",
              "    <tr>\n",
              "      <th>9</th>\n",
              "      <td>ALEXANDRE DE MORAES</td>\n",
              "      <td>104</td>\n",
              "      <td>50</td>\n",
              "      <td>1216</td>\n",
              "      <td>77</td>\n",
              "    </tr>\n",
              "    <tr>\n",
              "      <th>10</th>\n",
              "      <td>CELSO DE MELLO</td>\n",
              "      <td>131</td>\n",
              "      <td>62</td>\n",
              "      <td>696</td>\n",
              "      <td>44</td>\n",
              "    </tr>\n",
              "    <tr>\n",
              "      <th>11</th>\n",
              "      <td>NUNES MARQUES</td>\n",
              "      <td>41</td>\n",
              "      <td>19</td>\n",
              "      <td>439</td>\n",
              "      <td>27</td>\n",
              "    </tr>\n",
              "    <tr>\n",
              "      <th>12</th>\n",
              "      <td>TEORI ZAVASCKI</td>\n",
              "      <td>70</td>\n",
              "      <td>33</td>\n",
              "      <td>248</td>\n",
              "      <td>15</td>\n",
              "    </tr>\n",
              "    <tr>\n",
              "      <th>13</th>\n",
              "      <td>JOAQUIM BARBOSA</td>\n",
              "      <td>43</td>\n",
              "      <td>20</td>\n",
              "      <td>126</td>\n",
              "      <td>7</td>\n",
              "    </tr>\n",
              "    <tr>\n",
              "      <th>14</th>\n",
              "      <td>AYRES BRITTO</td>\n",
              "      <td>18</td>\n",
              "      <td>8</td>\n",
              "      <td>100</td>\n",
              "      <td>6</td>\n",
              "    </tr>\n",
              "    <tr>\n",
              "      <th>15</th>\n",
              "      <td>ANDRÉ MENDONÇA</td>\n",
              "      <td>5</td>\n",
              "      <td>2</td>\n",
              "      <td>108</td>\n",
              "      <td>6</td>\n",
              "    </tr>\n",
              "    <tr>\n",
              "      <th>16</th>\n",
              "      <td>CEZAR PELUSO</td>\n",
              "      <td>15</td>\n",
              "      <td>7</td>\n",
              "      <td>97</td>\n",
              "      <td>6</td>\n",
              "    </tr>\n",
              "    <tr>\n",
              "      <th>17</th>\n",
              "      <td>ELLEN GRACIE</td>\n",
              "      <td>3</td>\n",
              "      <td>1</td>\n",
              "      <td>64</td>\n",
              "      <td>4</td>\n",
              "    </tr>\n",
              "    <tr>\n",
              "      <th>18</th>\n",
              "      <td>EROS GRAU</td>\n",
              "      <td>1</td>\n",
              "      <td>0</td>\n",
              "      <td>12</td>\n",
              "      <td>0</td>\n",
              "    </tr>\n",
              "    <tr>\n",
              "      <th>19</th>\n",
              "      <td>MENEZES DIREITO</td>\n",
              "      <td>1</td>\n",
              "      <td>0</td>\n",
              "      <td>10</td>\n",
              "      <td>0</td>\n",
              "    </tr>\n",
              "    <tr>\n",
              "      <th>20</th>\n",
              "      <td>SEPÚLVEDA PERTENCE</td>\n",
              "      <td>1</td>\n",
              "      <td>0</td>\n",
              "      <td>6</td>\n",
              "      <td>0</td>\n",
              "    </tr>\n",
              "    <tr>\n",
              "      <th>21</th>\n",
              "      <td>NELSON JOBIM</td>\n",
              "      <td>0</td>\n",
              "      <td>0</td>\n",
              "      <td>6</td>\n",
              "      <td>0</td>\n",
              "    </tr>\n",
              "    <tr>\n",
              "      <th>22</th>\n",
              "      <td>CARLOS VELLOSO</td>\n",
              "      <td>0</td>\n",
              "      <td>0</td>\n",
              "      <td>5</td>\n",
              "      <td>0</td>\n",
              "    </tr>\n",
              "    <tr>\n",
              "      <th>23</th>\n",
              "      <td>MAURÍCIO CORRÊA</td>\n",
              "      <td>0</td>\n",
              "      <td>0</td>\n",
              "      <td>1</td>\n",
              "      <td>0</td>\n",
              "    </tr>\n",
              "  </tbody>\n",
              "</table>\n",
              "</div>\n",
              "      <button class=\"colab-df-convert\" onclick=\"convertToInteractive('df-cc4a5512-2d6a-4e78-af1d-cc702f7fe33a')\"\n",
              "              title=\"Convert this dataframe to an interactive table.\"\n",
              "              style=\"display:none;\">\n",
              "        \n",
              "  <svg xmlns=\"http://www.w3.org/2000/svg\" height=\"24px\"viewBox=\"0 0 24 24\"\n",
              "       width=\"24px\">\n",
              "    <path d=\"M0 0h24v24H0V0z\" fill=\"none\"/>\n",
              "    <path d=\"M18.56 5.44l.94 2.06.94-2.06 2.06-.94-2.06-.94-.94-2.06-.94 2.06-2.06.94zm-11 1L8.5 8.5l.94-2.06 2.06-.94-2.06-.94L8.5 2.5l-.94 2.06-2.06.94zm10 10l.94 2.06.94-2.06 2.06-.94-2.06-.94-.94-2.06-.94 2.06-2.06.94z\"/><path d=\"M17.41 7.96l-1.37-1.37c-.4-.4-.92-.59-1.43-.59-.52 0-1.04.2-1.43.59L10.3 9.45l-7.72 7.72c-.78.78-.78 2.05 0 2.83L4 21.41c.39.39.9.59 1.41.59.51 0 1.02-.2 1.41-.59l7.78-7.78 2.81-2.81c.8-.78.8-2.07 0-2.86zM5.41 20L4 18.59l7.72-7.72 1.47 1.35L5.41 20z\"/>\n",
              "  </svg>\n",
              "      </button>\n",
              "      \n",
              "  <style>\n",
              "    .colab-df-container {\n",
              "      display:flex;\n",
              "      flex-wrap:wrap;\n",
              "      gap: 12px;\n",
              "    }\n",
              "\n",
              "    .colab-df-convert {\n",
              "      background-color: #E8F0FE;\n",
              "      border: none;\n",
              "      border-radius: 50%;\n",
              "      cursor: pointer;\n",
              "      display: none;\n",
              "      fill: #1967D2;\n",
              "      height: 32px;\n",
              "      padding: 0 0 0 0;\n",
              "      width: 32px;\n",
              "    }\n",
              "\n",
              "    .colab-df-convert:hover {\n",
              "      background-color: #E2EBFA;\n",
              "      box-shadow: 0px 1px 2px rgba(60, 64, 67, 0.3), 0px 1px 3px 1px rgba(60, 64, 67, 0.15);\n",
              "      fill: #174EA6;\n",
              "    }\n",
              "\n",
              "    [theme=dark] .colab-df-convert {\n",
              "      background-color: #3B4455;\n",
              "      fill: #D2E3FC;\n",
              "    }\n",
              "\n",
              "    [theme=dark] .colab-df-convert:hover {\n",
              "      background-color: #434B5C;\n",
              "      box-shadow: 0px 1px 3px 1px rgba(0, 0, 0, 0.15);\n",
              "      filter: drop-shadow(0px 1px 2px rgba(0, 0, 0, 0.3));\n",
              "      fill: #FFFFFF;\n",
              "    }\n",
              "  </style>\n",
              "\n",
              "      <script>\n",
              "        const buttonEl =\n",
              "          document.querySelector('#df-cc4a5512-2d6a-4e78-af1d-cc702f7fe33a button.colab-df-convert');\n",
              "        buttonEl.style.display =\n",
              "          google.colab.kernel.accessAllowed ? 'block' : 'none';\n",
              "\n",
              "        async function convertToInteractive(key) {\n",
              "          const element = document.querySelector('#df-cc4a5512-2d6a-4e78-af1d-cc702f7fe33a');\n",
              "          const dataTable =\n",
              "            await google.colab.kernel.invokeFunction('convertToInteractive',\n",
              "                                                     [key], {});\n",
              "          if (!dataTable) return;\n",
              "\n",
              "          const docLinkHtml = 'Like what you see? Visit the ' +\n",
              "            '<a target=\"_blank\" href=https://colab.research.google.com/notebooks/data_table.ipynb>data table notebook</a>'\n",
              "            + ' to learn more about interactive tables.';\n",
              "          element.innerHTML = '';\n",
              "          dataTable['output_type'] = 'display_data';\n",
              "          await google.colab.output.renderOutput(dataTable, element);\n",
              "          const docLink = document.createElement('div');\n",
              "          docLink.innerHTML = docLinkHtml;\n",
              "          element.appendChild(docLink);\n",
              "        }\n",
              "      </script>\n",
              "    </div>\n",
              "  </div>\n",
              "  "
            ]
          },
          "metadata": {},
          "execution_count": 46
        }
      ]
    },
    {
      "cell_type": "markdown",
      "source": [
        "#Salvando Relatório"
      ],
      "metadata": {
        "id": "U_kjBgaX8Pk-"
      }
    },
    {
      "cell_type": "code",
      "source": [
        "#from datetime import date, datetime\n",
        "\n",
        "#data = datetime.today()\n",
        "#hoje = data.strftime('%d-%m-%Y')\n",
        "hora = data.strftime('%H-%M')\n",
        "nome = 'Relats-min'\n",
        "extens = '.csv'\n",
        "\n",
        "...\n",
        "\n",
        "df_min.to_csv(f'{nome}-{recorte}{extens}', index = False)"
      ],
      "metadata": {
        "id": "Z6ZUJmiqf8Zw"
      },
      "execution_count": 47,
      "outputs": []
    },
    {
      "cell_type": "markdown",
      "source": [
        "#Verificando Inconsistências"
      ],
      "metadata": {
        "id": "XRN_NCYeR2Ni"
      }
    },
    {
      "cell_type": "code",
      "source": [
        "dfH_temp = dfH_temp.reset_index(drop=True)\n",
        "dfA_temp = dfA_temp.reset_index(drop=True)"
      ],
      "metadata": {
        "id": "ryRnW1Bl6nUk"
      },
      "execution_count": 50,
      "outputs": []
    },
    {
      "cell_type": "code",
      "source": [
        "print('Inconsistência em Contagem de votos com Zero vencidos (prováveis unânimes')\n",
        "print('*'*100)\n",
        "print('HCs')\n",
        "\n",
        "for i in range (0,len(dfH_temp)):\n",
        "\n",
        "  if dfH_temp['Vencidos'][i]==0 and dfH_temp['Unanimidade'][i]=='Não':\n",
        "    print (dfH_temp['HC'][i])\n",
        "  \n",
        "print('*'*100)\n",
        "print('ADIs')\n",
        "\n",
        "for i in range (0,len(dfA_temp)):\n",
        "  \n",
        "  if dfA_temp['Vencidos'][i]==0 and dfA_temp['Unanimidade'][i]=='Não':\n",
        "    print (dfA_temp['ADI'][i])\n"
      ],
      "metadata": {
        "id": "ejTxdjpe0WNk",
        "colab": {
          "base_uri": "https://localhost:8080/"
        },
        "outputId": "b7758d80-ead4-4b27-9e3f-5af4567f2b50"
      },
      "execution_count": 51,
      "outputs": [
        {
          "output_type": "stream",
          "name": "stdout",
          "text": [
            "Inconsistência em Contagem de votos com Zero vencidos (prováveis unânimes\n",
            "****************************************************************************************************\n",
            "HCs\n",
            "****************************************************************************************************\n",
            "ADIs\n"
          ]
        }
      ]
    },
    {
      "cell_type": "markdown",
      "source": [
        "#Verificando Empates"
      ],
      "metadata": {
        "id": "HPSOZ1eFHYh4"
      }
    },
    {
      "cell_type": "code",
      "source": [
        "dfA_temp.columns"
      ],
      "metadata": {
        "id": "WikoWl7GJQ9f",
        "colab": {
          "base_uri": "https://localhost:8080/"
        },
        "outputId": "7df8066e-ec9f-4d66-9be7-217854fe55fe"
      },
      "execution_count": 52,
      "outputs": [
        {
          "output_type": "execute_result",
          "data": {
            "text/plain": [
              "Index(['ADI', 'Data de julgamento', 'Unanimidade', 'Informacoes', 'Vencedores',\n",
              "       'Vencidos', 'Tipo', 'Pleito Analisado', 'NUNES MARQUES',\n",
              "       'ANDRÉ MENDONÇA', 'ALEXANDRE DE MORAES', 'DIAS TOFFOLI',\n",
              "       'ROBERTO BARROSO', 'EDSON FACHIN', 'GILMAR MENDES', 'CÁRMEN LÚCIA',\n",
              "       'LUIZ FUX', 'RICARDO LEWANDOWSKI', 'ROSA WEBER', 'MARCO AURÉLIO',\n",
              "       'CELSO DE MELLO', 'TEORI ZAVASCKI', 'JOAQUIM BARBOSA', 'AYRES BRITTO',\n",
              "       'CEZAR PELUSO', 'ELLEN GRACIE', 'EROS GRAU', 'MENEZES DIREITO',\n",
              "       'SEPÚLVEDA PERTENCE', 'NELSON JOBIM', 'CARLOS VELLOSO',\n",
              "       'MAURÍCIO CORRÊA', 'NÉRI DA SILVEIRA', 'ILMAR GALVÃO', 'SYDNEY SANCHES',\n",
              "       'MOREIRA ALVES', 'OCTAVIO GALLOTTI', 'FRANCISCO REZEK'],\n",
              "      dtype='object')"
            ]
          },
          "metadata": {},
          "execution_count": 52
        }
      ]
    },
    {
      "cell_type": "code",
      "source": [
        "print('Empates')\n",
        "print('*'*100)\n",
        "print('HCs')\n",
        "empH=0\n",
        "empA=0\n",
        "\n",
        "for i in range (0,len(dfH_temp)):\n",
        "\n",
        "  if dfH_temp['Vencidos'][i]==dfH_temp['Vencedores'][i]:\n",
        "    print (dfH_temp['HC'][i])\n",
        "    empH+=1\n",
        "  \n",
        "print('*'*100)\n",
        "print('ADIs')\n",
        "\n",
        "for i in range (0,len(dfA_temp)):\n",
        "  \n",
        "  if dfA_temp['Vencidos'][i]==dfA_temp['Vencedores'][i]:\n",
        "    print (dfA_temp['ADI'][i])\n",
        "    empA+=1"
      ],
      "metadata": {
        "id": "cwt9i3iDHbm8",
        "colab": {
          "base_uri": "https://localhost:8080/"
        },
        "outputId": "d47c3c93-5bd8-4641-9d67-f85f9c19d737"
      },
      "execution_count": 53,
      "outputs": [
        {
          "output_type": "stream",
          "name": "stdout",
          "text": [
            "Empates\n",
            "****************************************************************************************************\n",
            "HCs\n",
            "HC 113857\n",
            "****************************************************************************************************\n",
            "ADIs\n",
            "ADI 2314\n",
            "ADI 2416\n",
            "ADI 1648\n",
            "ADI 4145\n",
            "ADI 4439\n",
            "ADI 2777\n",
            "ADI 4233\n"
          ]
        }
      ]
    },
    {
      "cell_type": "code",
      "source": [
        "print('*'*100)\n",
        "print('EMPATES em HCs: ',empH)\n",
        "print('EMPATES em ADIss: ',empA)"
      ],
      "metadata": {
        "id": "SINhUjFlH1b_",
        "colab": {
          "base_uri": "https://localhost:8080/"
        },
        "outputId": "b6b169ae-9cbf-4758-e240-b9344904e00e"
      },
      "execution_count": 54,
      "outputs": [
        {
          "output_type": "stream",
          "name": "stdout",
          "text": [
            "****************************************************************************************************\n",
            "EMPATES em HCs:  1\n",
            "EMPATES em ADIss:  7\n"
          ]
        }
      ]
    },
    {
      "cell_type": "markdown",
      "source": [
        "#Criação de Matriz de votos dos Ministros a Serem Analisados (com mais de 30% em cada classe)"
      ],
      "metadata": {
        "id": "I5bbvr8dd2CQ"
      }
    },
    {
      "cell_type": "code",
      "source": [
        "l_min2=[]"
      ],
      "metadata": {
        "id": "v_cCsdmPeG2C"
      },
      "execution_count": 55,
      "outputs": []
    },
    {
      "cell_type": "code",
      "source": [
        "dfA_temp"
      ],
      "metadata": {
        "id": "8QFnEmnTOKcg",
        "colab": {
          "base_uri": "https://localhost:8080/",
          "height": 1000
        },
        "outputId": "e89e80fd-8701-461e-ac25-4f8358630452"
      },
      "execution_count": 56,
      "outputs": [
        {
          "output_type": "execute_result",
          "data": {
            "text/plain": [
              "           ADI Data de julgamento Unanimidade Informacoes  Vencedores  \\\n",
              "0     ADI 3005         2020-07-01         Não           0           9   \n",
              "1     ADI 6513         2020-12-21         Sim           0          11   \n",
              "2     ADI 6233         2020-02-14         Sim           0          10   \n",
              "3     ADI 6515         2021-08-23         Sim           0          10   \n",
              "4     ADI 6308         2022-06-06         Sim           0          11   \n",
              "...        ...                ...         ...         ...         ...   \n",
              "1571   ADI 750         2017-08-03         Não           0           8   \n",
              "1572  ADI 5939         2020-06-16         Não           0           6   \n",
              "1573  ADI 5946         2021-05-24         Não           0           9   \n",
              "1574  ADI 3567         2019-10-10         Não           0          10   \n",
              "1575  ADI 5135         2016-11-09         Não           0           5   \n",
              "\n",
              "      Vencidos       Tipo                                   Pleito Analisado  \\\n",
              "0            1  Principal   O TRIBUNAL, POR MAIORIA, JULGOU PROCEDENTE O ...   \n",
              "1            0  Principal  O TRIBUNAL, POR UNANIMIDADE, JULGOU PROCEDENTE...   \n",
              "2            0  Principal  O TRIBUNAL, POR UNANIMIDADE, JULGOU PARCIALMEN...   \n",
              "3            0  Principal  O TRIBUNAL, POR UNANIMIDADE, JULGOU PROCEDENTE...   \n",
              "4            0  Principal  O TRIBUNAL, POR UNANIMIDADE, CONHECEU PARCIALM...   \n",
              "...        ...        ...                                                ...   \n",
              "1571         3  Principal  O TRIBUNAL, POR MAIORIA E NOS TERMOS DO VOTO D...   \n",
              "1572         5  Principal   O TRIBUNAL, POR MAIORIA, CONHECEU PARCIALMENT...   \n",
              "1573         2  Principal   O TRIBUNAL, POR MAIORIA, JULGOU PARCIALMENTE ...   \n",
              "1574         1  Principal   O TRIBUNAL, POR MAIORIA, RESOLVENDO QUESTÃO D...   \n",
              "1575         3  Principal   O TRIBUNAL, POR MAIORIA E NOS TERMOS DO VOTO ...   \n",
              "\n",
              "      NUNES MARQUES  ANDRÉ MENDONÇA  ...  SEPÚLVEDA PERTENCE  NELSON JOBIM  \\\n",
              "0                 0               0  ...                   0             0   \n",
              "1                 1               0  ...                   0             0   \n",
              "2                 0               0  ...                   0             0   \n",
              "3                 1               0  ...                   0             0   \n",
              "4                 1               1  ...                   0             0   \n",
              "...             ...             ...  ...                 ...           ...   \n",
              "1571              0               0  ...                   0             0   \n",
              "1572              0               0  ...                   0             0   \n",
              "1573              1               0  ...                   0             0   \n",
              "1574              0               0  ...                   0             0   \n",
              "1575              0               0  ...                   0             0   \n",
              "\n",
              "      CARLOS VELLOSO  MAURÍCIO CORRÊA  NÉRI DA SILVEIRA  ILMAR GALVÃO  \\\n",
              "0                  0                0                 0             0   \n",
              "1                  0                0                 0             0   \n",
              "2                  0                0                 0             0   \n",
              "3                  0                0                 0             0   \n",
              "4                  0                0                 0             0   \n",
              "...              ...              ...               ...           ...   \n",
              "1571               0                0                 0             0   \n",
              "1572               0                0                 0             0   \n",
              "1573               0                0                 0             0   \n",
              "1574               0                0                 0             0   \n",
              "1575               0                0                 0             0   \n",
              "\n",
              "      SYDNEY SANCHES  MOREIRA ALVES  OCTAVIO GALLOTTI  FRANCISCO REZEK  \n",
              "0                  0              0                 0                0  \n",
              "1                  0              0                 0                0  \n",
              "2                  0              0                 0                0  \n",
              "3                  0              0                 0                0  \n",
              "4                  0              0                 0                0  \n",
              "...              ...            ...               ...              ...  \n",
              "1571               0              0                 0                0  \n",
              "1572               0              0                 0                0  \n",
              "1573               0              0                 0                0  \n",
              "1574               0              0                 0                0  \n",
              "1575               0              0                 0                0  \n",
              "\n",
              "[1576 rows x 38 columns]"
            ],
            "text/html": [
              "\n",
              "  <div id=\"df-4e42d00c-43a3-4320-a875-1a9d3e59c226\">\n",
              "    <div class=\"colab-df-container\">\n",
              "      <div>\n",
              "<style scoped>\n",
              "    .dataframe tbody tr th:only-of-type {\n",
              "        vertical-align: middle;\n",
              "    }\n",
              "\n",
              "    .dataframe tbody tr th {\n",
              "        vertical-align: top;\n",
              "    }\n",
              "\n",
              "    .dataframe thead th {\n",
              "        text-align: right;\n",
              "    }\n",
              "</style>\n",
              "<table border=\"1\" class=\"dataframe\">\n",
              "  <thead>\n",
              "    <tr style=\"text-align: right;\">\n",
              "      <th></th>\n",
              "      <th>ADI</th>\n",
              "      <th>Data de julgamento</th>\n",
              "      <th>Unanimidade</th>\n",
              "      <th>Informacoes</th>\n",
              "      <th>Vencedores</th>\n",
              "      <th>Vencidos</th>\n",
              "      <th>Tipo</th>\n",
              "      <th>Pleito Analisado</th>\n",
              "      <th>NUNES MARQUES</th>\n",
              "      <th>ANDRÉ MENDONÇA</th>\n",
              "      <th>...</th>\n",
              "      <th>SEPÚLVEDA PERTENCE</th>\n",
              "      <th>NELSON JOBIM</th>\n",
              "      <th>CARLOS VELLOSO</th>\n",
              "      <th>MAURÍCIO CORRÊA</th>\n",
              "      <th>NÉRI DA SILVEIRA</th>\n",
              "      <th>ILMAR GALVÃO</th>\n",
              "      <th>SYDNEY SANCHES</th>\n",
              "      <th>MOREIRA ALVES</th>\n",
              "      <th>OCTAVIO GALLOTTI</th>\n",
              "      <th>FRANCISCO REZEK</th>\n",
              "    </tr>\n",
              "  </thead>\n",
              "  <tbody>\n",
              "    <tr>\n",
              "      <th>0</th>\n",
              "      <td>ADI 3005</td>\n",
              "      <td>2020-07-01</td>\n",
              "      <td>Não</td>\n",
              "      <td>0</td>\n",
              "      <td>9</td>\n",
              "      <td>1</td>\n",
              "      <td>Principal</td>\n",
              "      <td>O TRIBUNAL, POR MAIORIA, JULGOU PROCEDENTE O ...</td>\n",
              "      <td>0</td>\n",
              "      <td>0</td>\n",
              "      <td>...</td>\n",
              "      <td>0</td>\n",
              "      <td>0</td>\n",
              "      <td>0</td>\n",
              "      <td>0</td>\n",
              "      <td>0</td>\n",
              "      <td>0</td>\n",
              "      <td>0</td>\n",
              "      <td>0</td>\n",
              "      <td>0</td>\n",
              "      <td>0</td>\n",
              "    </tr>\n",
              "    <tr>\n",
              "      <th>1</th>\n",
              "      <td>ADI 6513</td>\n",
              "      <td>2020-12-21</td>\n",
              "      <td>Sim</td>\n",
              "      <td>0</td>\n",
              "      <td>11</td>\n",
              "      <td>0</td>\n",
              "      <td>Principal</td>\n",
              "      <td>O TRIBUNAL, POR UNANIMIDADE, JULGOU PROCEDENTE...</td>\n",
              "      <td>1</td>\n",
              "      <td>0</td>\n",
              "      <td>...</td>\n",
              "      <td>0</td>\n",
              "      <td>0</td>\n",
              "      <td>0</td>\n",
              "      <td>0</td>\n",
              "      <td>0</td>\n",
              "      <td>0</td>\n",
              "      <td>0</td>\n",
              "      <td>0</td>\n",
              "      <td>0</td>\n",
              "      <td>0</td>\n",
              "    </tr>\n",
              "    <tr>\n",
              "      <th>2</th>\n",
              "      <td>ADI 6233</td>\n",
              "      <td>2020-02-14</td>\n",
              "      <td>Sim</td>\n",
              "      <td>0</td>\n",
              "      <td>10</td>\n",
              "      <td>0</td>\n",
              "      <td>Principal</td>\n",
              "      <td>O TRIBUNAL, POR UNANIMIDADE, JULGOU PARCIALMEN...</td>\n",
              "      <td>0</td>\n",
              "      <td>0</td>\n",
              "      <td>...</td>\n",
              "      <td>0</td>\n",
              "      <td>0</td>\n",
              "      <td>0</td>\n",
              "      <td>0</td>\n",
              "      <td>0</td>\n",
              "      <td>0</td>\n",
              "      <td>0</td>\n",
              "      <td>0</td>\n",
              "      <td>0</td>\n",
              "      <td>0</td>\n",
              "    </tr>\n",
              "    <tr>\n",
              "      <th>3</th>\n",
              "      <td>ADI 6515</td>\n",
              "      <td>2021-08-23</td>\n",
              "      <td>Sim</td>\n",
              "      <td>0</td>\n",
              "      <td>10</td>\n",
              "      <td>0</td>\n",
              "      <td>Principal</td>\n",
              "      <td>O TRIBUNAL, POR UNANIMIDADE, JULGOU PROCEDENTE...</td>\n",
              "      <td>1</td>\n",
              "      <td>0</td>\n",
              "      <td>...</td>\n",
              "      <td>0</td>\n",
              "      <td>0</td>\n",
              "      <td>0</td>\n",
              "      <td>0</td>\n",
              "      <td>0</td>\n",
              "      <td>0</td>\n",
              "      <td>0</td>\n",
              "      <td>0</td>\n",
              "      <td>0</td>\n",
              "      <td>0</td>\n",
              "    </tr>\n",
              "    <tr>\n",
              "      <th>4</th>\n",
              "      <td>ADI 6308</td>\n",
              "      <td>2022-06-06</td>\n",
              "      <td>Sim</td>\n",
              "      <td>0</td>\n",
              "      <td>11</td>\n",
              "      <td>0</td>\n",
              "      <td>Principal</td>\n",
              "      <td>O TRIBUNAL, POR UNANIMIDADE, CONHECEU PARCIALM...</td>\n",
              "      <td>1</td>\n",
              "      <td>1</td>\n",
              "      <td>...</td>\n",
              "      <td>0</td>\n",
              "      <td>0</td>\n",
              "      <td>0</td>\n",
              "      <td>0</td>\n",
              "      <td>0</td>\n",
              "      <td>0</td>\n",
              "      <td>0</td>\n",
              "      <td>0</td>\n",
              "      <td>0</td>\n",
              "      <td>0</td>\n",
              "    </tr>\n",
              "    <tr>\n",
              "      <th>...</th>\n",
              "      <td>...</td>\n",
              "      <td>...</td>\n",
              "      <td>...</td>\n",
              "      <td>...</td>\n",
              "      <td>...</td>\n",
              "      <td>...</td>\n",
              "      <td>...</td>\n",
              "      <td>...</td>\n",
              "      <td>...</td>\n",
              "      <td>...</td>\n",
              "      <td>...</td>\n",
              "      <td>...</td>\n",
              "      <td>...</td>\n",
              "      <td>...</td>\n",
              "      <td>...</td>\n",
              "      <td>...</td>\n",
              "      <td>...</td>\n",
              "      <td>...</td>\n",
              "      <td>...</td>\n",
              "      <td>...</td>\n",
              "      <td>...</td>\n",
              "    </tr>\n",
              "    <tr>\n",
              "      <th>1571</th>\n",
              "      <td>ADI 750</td>\n",
              "      <td>2017-08-03</td>\n",
              "      <td>Não</td>\n",
              "      <td>0</td>\n",
              "      <td>8</td>\n",
              "      <td>3</td>\n",
              "      <td>Principal</td>\n",
              "      <td>O TRIBUNAL, POR MAIORIA E NOS TERMOS DO VOTO D...</td>\n",
              "      <td>0</td>\n",
              "      <td>0</td>\n",
              "      <td>...</td>\n",
              "      <td>0</td>\n",
              "      <td>0</td>\n",
              "      <td>0</td>\n",
              "      <td>0</td>\n",
              "      <td>0</td>\n",
              "      <td>0</td>\n",
              "      <td>0</td>\n",
              "      <td>0</td>\n",
              "      <td>0</td>\n",
              "      <td>0</td>\n",
              "    </tr>\n",
              "    <tr>\n",
              "      <th>1572</th>\n",
              "      <td>ADI 5939</td>\n",
              "      <td>2020-06-16</td>\n",
              "      <td>Não</td>\n",
              "      <td>0</td>\n",
              "      <td>6</td>\n",
              "      <td>5</td>\n",
              "      <td>Principal</td>\n",
              "      <td>O TRIBUNAL, POR MAIORIA, CONHECEU PARCIALMENT...</td>\n",
              "      <td>0</td>\n",
              "      <td>0</td>\n",
              "      <td>...</td>\n",
              "      <td>0</td>\n",
              "      <td>0</td>\n",
              "      <td>0</td>\n",
              "      <td>0</td>\n",
              "      <td>0</td>\n",
              "      <td>0</td>\n",
              "      <td>0</td>\n",
              "      <td>0</td>\n",
              "      <td>0</td>\n",
              "      <td>0</td>\n",
              "    </tr>\n",
              "    <tr>\n",
              "      <th>1573</th>\n",
              "      <td>ADI 5946</td>\n",
              "      <td>2021-05-24</td>\n",
              "      <td>Não</td>\n",
              "      <td>0</td>\n",
              "      <td>9</td>\n",
              "      <td>2</td>\n",
              "      <td>Principal</td>\n",
              "      <td>O TRIBUNAL, POR MAIORIA, JULGOU PARCIALMENTE ...</td>\n",
              "      <td>1</td>\n",
              "      <td>0</td>\n",
              "      <td>...</td>\n",
              "      <td>0</td>\n",
              "      <td>0</td>\n",
              "      <td>0</td>\n",
              "      <td>0</td>\n",
              "      <td>0</td>\n",
              "      <td>0</td>\n",
              "      <td>0</td>\n",
              "      <td>0</td>\n",
              "      <td>0</td>\n",
              "      <td>0</td>\n",
              "    </tr>\n",
              "    <tr>\n",
              "      <th>1574</th>\n",
              "      <td>ADI 3567</td>\n",
              "      <td>2019-10-10</td>\n",
              "      <td>Não</td>\n",
              "      <td>0</td>\n",
              "      <td>10</td>\n",
              "      <td>1</td>\n",
              "      <td>Principal</td>\n",
              "      <td>O TRIBUNAL, POR MAIORIA, RESOLVENDO QUESTÃO D...</td>\n",
              "      <td>0</td>\n",
              "      <td>0</td>\n",
              "      <td>...</td>\n",
              "      <td>0</td>\n",
              "      <td>0</td>\n",
              "      <td>0</td>\n",
              "      <td>0</td>\n",
              "      <td>0</td>\n",
              "      <td>0</td>\n",
              "      <td>0</td>\n",
              "      <td>0</td>\n",
              "      <td>0</td>\n",
              "      <td>0</td>\n",
              "    </tr>\n",
              "    <tr>\n",
              "      <th>1575</th>\n",
              "      <td>ADI 5135</td>\n",
              "      <td>2016-11-09</td>\n",
              "      <td>Não</td>\n",
              "      <td>0</td>\n",
              "      <td>5</td>\n",
              "      <td>3</td>\n",
              "      <td>Principal</td>\n",
              "      <td>O TRIBUNAL, POR MAIORIA E NOS TERMOS DO VOTO ...</td>\n",
              "      <td>0</td>\n",
              "      <td>0</td>\n",
              "      <td>...</td>\n",
              "      <td>0</td>\n",
              "      <td>0</td>\n",
              "      <td>0</td>\n",
              "      <td>0</td>\n",
              "      <td>0</td>\n",
              "      <td>0</td>\n",
              "      <td>0</td>\n",
              "      <td>0</td>\n",
              "      <td>0</td>\n",
              "      <td>0</td>\n",
              "    </tr>\n",
              "  </tbody>\n",
              "</table>\n",
              "<p>1576 rows × 38 columns</p>\n",
              "</div>\n",
              "      <button class=\"colab-df-convert\" onclick=\"convertToInteractive('df-4e42d00c-43a3-4320-a875-1a9d3e59c226')\"\n",
              "              title=\"Convert this dataframe to an interactive table.\"\n",
              "              style=\"display:none;\">\n",
              "        \n",
              "  <svg xmlns=\"http://www.w3.org/2000/svg\" height=\"24px\"viewBox=\"0 0 24 24\"\n",
              "       width=\"24px\">\n",
              "    <path d=\"M0 0h24v24H0V0z\" fill=\"none\"/>\n",
              "    <path d=\"M18.56 5.44l.94 2.06.94-2.06 2.06-.94-2.06-.94-.94-2.06-.94 2.06-2.06.94zm-11 1L8.5 8.5l.94-2.06 2.06-.94-2.06-.94L8.5 2.5l-.94 2.06-2.06.94zm10 10l.94 2.06.94-2.06 2.06-.94-2.06-.94-.94-2.06-.94 2.06-2.06.94z\"/><path d=\"M17.41 7.96l-1.37-1.37c-.4-.4-.92-.59-1.43-.59-.52 0-1.04.2-1.43.59L10.3 9.45l-7.72 7.72c-.78.78-.78 2.05 0 2.83L4 21.41c.39.39.9.59 1.41.59.51 0 1.02-.2 1.41-.59l7.78-7.78 2.81-2.81c.8-.78.8-2.07 0-2.86zM5.41 20L4 18.59l7.72-7.72 1.47 1.35L5.41 20z\"/>\n",
              "  </svg>\n",
              "      </button>\n",
              "      \n",
              "  <style>\n",
              "    .colab-df-container {\n",
              "      display:flex;\n",
              "      flex-wrap:wrap;\n",
              "      gap: 12px;\n",
              "    }\n",
              "\n",
              "    .colab-df-convert {\n",
              "      background-color: #E8F0FE;\n",
              "      border: none;\n",
              "      border-radius: 50%;\n",
              "      cursor: pointer;\n",
              "      display: none;\n",
              "      fill: #1967D2;\n",
              "      height: 32px;\n",
              "      padding: 0 0 0 0;\n",
              "      width: 32px;\n",
              "    }\n",
              "\n",
              "    .colab-df-convert:hover {\n",
              "      background-color: #E2EBFA;\n",
              "      box-shadow: 0px 1px 2px rgba(60, 64, 67, 0.3), 0px 1px 3px 1px rgba(60, 64, 67, 0.15);\n",
              "      fill: #174EA6;\n",
              "    }\n",
              "\n",
              "    [theme=dark] .colab-df-convert {\n",
              "      background-color: #3B4455;\n",
              "      fill: #D2E3FC;\n",
              "    }\n",
              "\n",
              "    [theme=dark] .colab-df-convert:hover {\n",
              "      background-color: #434B5C;\n",
              "      box-shadow: 0px 1px 3px 1px rgba(0, 0, 0, 0.15);\n",
              "      filter: drop-shadow(0px 1px 2px rgba(0, 0, 0, 0.3));\n",
              "      fill: #FFFFFF;\n",
              "    }\n",
              "  </style>\n",
              "\n",
              "      <script>\n",
              "        const buttonEl =\n",
              "          document.querySelector('#df-4e42d00c-43a3-4320-a875-1a9d3e59c226 button.colab-df-convert');\n",
              "        buttonEl.style.display =\n",
              "          google.colab.kernel.accessAllowed ? 'block' : 'none';\n",
              "\n",
              "        async function convertToInteractive(key) {\n",
              "          const element = document.querySelector('#df-4e42d00c-43a3-4320-a875-1a9d3e59c226');\n",
              "          const dataTable =\n",
              "            await google.colab.kernel.invokeFunction('convertToInteractive',\n",
              "                                                     [key], {});\n",
              "          if (!dataTable) return;\n",
              "\n",
              "          const docLinkHtml = 'Like what you see? Visit the ' +\n",
              "            '<a target=\"_blank\" href=https://colab.research.google.com/notebooks/data_table.ipynb>data table notebook</a>'\n",
              "            + ' to learn more about interactive tables.';\n",
              "          element.innerHTML = '';\n",
              "          dataTable['output_type'] = 'display_data';\n",
              "          await google.colab.output.renderOutput(dataTable, element);\n",
              "          const docLink = document.createElement('div');\n",
              "          docLink.innerHTML = docLinkHtml;\n",
              "          element.appendChild(docLink);\n",
              "        }\n",
              "      </script>\n",
              "    </div>\n",
              "  </div>\n",
              "  "
            ]
          },
          "metadata": {},
          "execution_count": 56
        }
      ]
    },
    {
      "cell_type": "markdown",
      "source": [
        "#Tabela Final"
      ],
      "metadata": {
        "id": "4fCN98NAxtxi"
      }
    },
    {
      "cell_type": "code",
      "source": [
        "df_min"
      ],
      "metadata": {
        "id": "OSOx_aRgWQrd",
        "colab": {
          "base_uri": "https://localhost:8080/",
          "height": 802
        },
        "outputId": "d53d1455-5763-4ce1-fa8b-9e15c81870da"
      },
      "execution_count": 57,
      "outputs": [
        {
          "output_type": "execute_result",
          "data": {
            "text/plain": [
              "              Ministros  Votos HCs  Percent HCs  Votos ADIs  Percent ADIs\n",
              "0   RICARDO LEWANDOWSKI        197           94        1498            95\n",
              "1              LUIZ FUX        195           93        1493            94\n",
              "2            ROSA WEBER        193           92        1486            94\n",
              "3          CÁRMEN LÚCIA        188           90        1480            93\n",
              "4          DIAS TOFFOLI        200           96        1446            91\n",
              "5         GILMAR MENDES        187           89        1453            92\n",
              "6       ROBERTO BARROSO        173           83        1380            87\n",
              "7         MARCO AURÉLIO        188           90        1325            84\n",
              "8          EDSON FACHIN        147           70        1320            83\n",
              "9   ALEXANDRE DE MORAES        104           50        1216            77\n",
              "10       CELSO DE MELLO        131           62         696            44\n",
              "11        NUNES MARQUES         41           19         439            27\n",
              "12       TEORI ZAVASCKI         70           33         248            15\n",
              "13      JOAQUIM BARBOSA         43           20         126             7\n",
              "14         AYRES BRITTO         18            8         100             6\n",
              "15       ANDRÉ MENDONÇA          5            2         108             6\n",
              "16         CEZAR PELUSO         15            7          97             6\n",
              "17         ELLEN GRACIE          3            1          64             4\n",
              "18            EROS GRAU          1            0          12             0\n",
              "19      MENEZES DIREITO          1            0          10             0\n",
              "20   SEPÚLVEDA PERTENCE          1            0           6             0\n",
              "21         NELSON JOBIM          0            0           6             0\n",
              "22       CARLOS VELLOSO          0            0           5             0\n",
              "23      MAURÍCIO CORRÊA          0            0           1             0"
            ],
            "text/html": [
              "\n",
              "  <div id=\"df-8fbd88d2-5044-4778-822e-3d419e25603c\">\n",
              "    <div class=\"colab-df-container\">\n",
              "      <div>\n",
              "<style scoped>\n",
              "    .dataframe tbody tr th:only-of-type {\n",
              "        vertical-align: middle;\n",
              "    }\n",
              "\n",
              "    .dataframe tbody tr th {\n",
              "        vertical-align: top;\n",
              "    }\n",
              "\n",
              "    .dataframe thead th {\n",
              "        text-align: right;\n",
              "    }\n",
              "</style>\n",
              "<table border=\"1\" class=\"dataframe\">\n",
              "  <thead>\n",
              "    <tr style=\"text-align: right;\">\n",
              "      <th></th>\n",
              "      <th>Ministros</th>\n",
              "      <th>Votos HCs</th>\n",
              "      <th>Percent HCs</th>\n",
              "      <th>Votos ADIs</th>\n",
              "      <th>Percent ADIs</th>\n",
              "    </tr>\n",
              "  </thead>\n",
              "  <tbody>\n",
              "    <tr>\n",
              "      <th>0</th>\n",
              "      <td>RICARDO LEWANDOWSKI</td>\n",
              "      <td>197</td>\n",
              "      <td>94</td>\n",
              "      <td>1498</td>\n",
              "      <td>95</td>\n",
              "    </tr>\n",
              "    <tr>\n",
              "      <th>1</th>\n",
              "      <td>LUIZ FUX</td>\n",
              "      <td>195</td>\n",
              "      <td>93</td>\n",
              "      <td>1493</td>\n",
              "      <td>94</td>\n",
              "    </tr>\n",
              "    <tr>\n",
              "      <th>2</th>\n",
              "      <td>ROSA WEBER</td>\n",
              "      <td>193</td>\n",
              "      <td>92</td>\n",
              "      <td>1486</td>\n",
              "      <td>94</td>\n",
              "    </tr>\n",
              "    <tr>\n",
              "      <th>3</th>\n",
              "      <td>CÁRMEN LÚCIA</td>\n",
              "      <td>188</td>\n",
              "      <td>90</td>\n",
              "      <td>1480</td>\n",
              "      <td>93</td>\n",
              "    </tr>\n",
              "    <tr>\n",
              "      <th>4</th>\n",
              "      <td>DIAS TOFFOLI</td>\n",
              "      <td>200</td>\n",
              "      <td>96</td>\n",
              "      <td>1446</td>\n",
              "      <td>91</td>\n",
              "    </tr>\n",
              "    <tr>\n",
              "      <th>5</th>\n",
              "      <td>GILMAR MENDES</td>\n",
              "      <td>187</td>\n",
              "      <td>89</td>\n",
              "      <td>1453</td>\n",
              "      <td>92</td>\n",
              "    </tr>\n",
              "    <tr>\n",
              "      <th>6</th>\n",
              "      <td>ROBERTO BARROSO</td>\n",
              "      <td>173</td>\n",
              "      <td>83</td>\n",
              "      <td>1380</td>\n",
              "      <td>87</td>\n",
              "    </tr>\n",
              "    <tr>\n",
              "      <th>7</th>\n",
              "      <td>MARCO AURÉLIO</td>\n",
              "      <td>188</td>\n",
              "      <td>90</td>\n",
              "      <td>1325</td>\n",
              "      <td>84</td>\n",
              "    </tr>\n",
              "    <tr>\n",
              "      <th>8</th>\n",
              "      <td>EDSON FACHIN</td>\n",
              "      <td>147</td>\n",
              "      <td>70</td>\n",
              "      <td>1320</td>\n",
              "      <td>83</td>\n",
              "    </tr>\n",
              "    <tr>\n",
              "      <th>9</th>\n",
              "      <td>ALEXANDRE DE MORAES</td>\n",
              "      <td>104</td>\n",
              "      <td>50</td>\n",
              "      <td>1216</td>\n",
              "      <td>77</td>\n",
              "    </tr>\n",
              "    <tr>\n",
              "      <th>10</th>\n",
              "      <td>CELSO DE MELLO</td>\n",
              "      <td>131</td>\n",
              "      <td>62</td>\n",
              "      <td>696</td>\n",
              "      <td>44</td>\n",
              "    </tr>\n",
              "    <tr>\n",
              "      <th>11</th>\n",
              "      <td>NUNES MARQUES</td>\n",
              "      <td>41</td>\n",
              "      <td>19</td>\n",
              "      <td>439</td>\n",
              "      <td>27</td>\n",
              "    </tr>\n",
              "    <tr>\n",
              "      <th>12</th>\n",
              "      <td>TEORI ZAVASCKI</td>\n",
              "      <td>70</td>\n",
              "      <td>33</td>\n",
              "      <td>248</td>\n",
              "      <td>15</td>\n",
              "    </tr>\n",
              "    <tr>\n",
              "      <th>13</th>\n",
              "      <td>JOAQUIM BARBOSA</td>\n",
              "      <td>43</td>\n",
              "      <td>20</td>\n",
              "      <td>126</td>\n",
              "      <td>7</td>\n",
              "    </tr>\n",
              "    <tr>\n",
              "      <th>14</th>\n",
              "      <td>AYRES BRITTO</td>\n",
              "      <td>18</td>\n",
              "      <td>8</td>\n",
              "      <td>100</td>\n",
              "      <td>6</td>\n",
              "    </tr>\n",
              "    <tr>\n",
              "      <th>15</th>\n",
              "      <td>ANDRÉ MENDONÇA</td>\n",
              "      <td>5</td>\n",
              "      <td>2</td>\n",
              "      <td>108</td>\n",
              "      <td>6</td>\n",
              "    </tr>\n",
              "    <tr>\n",
              "      <th>16</th>\n",
              "      <td>CEZAR PELUSO</td>\n",
              "      <td>15</td>\n",
              "      <td>7</td>\n",
              "      <td>97</td>\n",
              "      <td>6</td>\n",
              "    </tr>\n",
              "    <tr>\n",
              "      <th>17</th>\n",
              "      <td>ELLEN GRACIE</td>\n",
              "      <td>3</td>\n",
              "      <td>1</td>\n",
              "      <td>64</td>\n",
              "      <td>4</td>\n",
              "    </tr>\n",
              "    <tr>\n",
              "      <th>18</th>\n",
              "      <td>EROS GRAU</td>\n",
              "      <td>1</td>\n",
              "      <td>0</td>\n",
              "      <td>12</td>\n",
              "      <td>0</td>\n",
              "    </tr>\n",
              "    <tr>\n",
              "      <th>19</th>\n",
              "      <td>MENEZES DIREITO</td>\n",
              "      <td>1</td>\n",
              "      <td>0</td>\n",
              "      <td>10</td>\n",
              "      <td>0</td>\n",
              "    </tr>\n",
              "    <tr>\n",
              "      <th>20</th>\n",
              "      <td>SEPÚLVEDA PERTENCE</td>\n",
              "      <td>1</td>\n",
              "      <td>0</td>\n",
              "      <td>6</td>\n",
              "      <td>0</td>\n",
              "    </tr>\n",
              "    <tr>\n",
              "      <th>21</th>\n",
              "      <td>NELSON JOBIM</td>\n",
              "      <td>0</td>\n",
              "      <td>0</td>\n",
              "      <td>6</td>\n",
              "      <td>0</td>\n",
              "    </tr>\n",
              "    <tr>\n",
              "      <th>22</th>\n",
              "      <td>CARLOS VELLOSO</td>\n",
              "      <td>0</td>\n",
              "      <td>0</td>\n",
              "      <td>5</td>\n",
              "      <td>0</td>\n",
              "    </tr>\n",
              "    <tr>\n",
              "      <th>23</th>\n",
              "      <td>MAURÍCIO CORRÊA</td>\n",
              "      <td>0</td>\n",
              "      <td>0</td>\n",
              "      <td>1</td>\n",
              "      <td>0</td>\n",
              "    </tr>\n",
              "  </tbody>\n",
              "</table>\n",
              "</div>\n",
              "      <button class=\"colab-df-convert\" onclick=\"convertToInteractive('df-8fbd88d2-5044-4778-822e-3d419e25603c')\"\n",
              "              title=\"Convert this dataframe to an interactive table.\"\n",
              "              style=\"display:none;\">\n",
              "        \n",
              "  <svg xmlns=\"http://www.w3.org/2000/svg\" height=\"24px\"viewBox=\"0 0 24 24\"\n",
              "       width=\"24px\">\n",
              "    <path d=\"M0 0h24v24H0V0z\" fill=\"none\"/>\n",
              "    <path d=\"M18.56 5.44l.94 2.06.94-2.06 2.06-.94-2.06-.94-.94-2.06-.94 2.06-2.06.94zm-11 1L8.5 8.5l.94-2.06 2.06-.94-2.06-.94L8.5 2.5l-.94 2.06-2.06.94zm10 10l.94 2.06.94-2.06 2.06-.94-2.06-.94-.94-2.06-.94 2.06-2.06.94z\"/><path d=\"M17.41 7.96l-1.37-1.37c-.4-.4-.92-.59-1.43-.59-.52 0-1.04.2-1.43.59L10.3 9.45l-7.72 7.72c-.78.78-.78 2.05 0 2.83L4 21.41c.39.39.9.59 1.41.59.51 0 1.02-.2 1.41-.59l7.78-7.78 2.81-2.81c.8-.78.8-2.07 0-2.86zM5.41 20L4 18.59l7.72-7.72 1.47 1.35L5.41 20z\"/>\n",
              "  </svg>\n",
              "      </button>\n",
              "      \n",
              "  <style>\n",
              "    .colab-df-container {\n",
              "      display:flex;\n",
              "      flex-wrap:wrap;\n",
              "      gap: 12px;\n",
              "    }\n",
              "\n",
              "    .colab-df-convert {\n",
              "      background-color: #E8F0FE;\n",
              "      border: none;\n",
              "      border-radius: 50%;\n",
              "      cursor: pointer;\n",
              "      display: none;\n",
              "      fill: #1967D2;\n",
              "      height: 32px;\n",
              "      padding: 0 0 0 0;\n",
              "      width: 32px;\n",
              "    }\n",
              "\n",
              "    .colab-df-convert:hover {\n",
              "      background-color: #E2EBFA;\n",
              "      box-shadow: 0px 1px 2px rgba(60, 64, 67, 0.3), 0px 1px 3px 1px rgba(60, 64, 67, 0.15);\n",
              "      fill: #174EA6;\n",
              "    }\n",
              "\n",
              "    [theme=dark] .colab-df-convert {\n",
              "      background-color: #3B4455;\n",
              "      fill: #D2E3FC;\n",
              "    }\n",
              "\n",
              "    [theme=dark] .colab-df-convert:hover {\n",
              "      background-color: #434B5C;\n",
              "      box-shadow: 0px 1px 3px 1px rgba(0, 0, 0, 0.15);\n",
              "      filter: drop-shadow(0px 1px 2px rgba(0, 0, 0, 0.3));\n",
              "      fill: #FFFFFF;\n",
              "    }\n",
              "  </style>\n",
              "\n",
              "      <script>\n",
              "        const buttonEl =\n",
              "          document.querySelector('#df-8fbd88d2-5044-4778-822e-3d419e25603c button.colab-df-convert');\n",
              "        buttonEl.style.display =\n",
              "          google.colab.kernel.accessAllowed ? 'block' : 'none';\n",
              "\n",
              "        async function convertToInteractive(key) {\n",
              "          const element = document.querySelector('#df-8fbd88d2-5044-4778-822e-3d419e25603c');\n",
              "          const dataTable =\n",
              "            await google.colab.kernel.invokeFunction('convertToInteractive',\n",
              "                                                     [key], {});\n",
              "          if (!dataTable) return;\n",
              "\n",
              "          const docLinkHtml = 'Like what you see? Visit the ' +\n",
              "            '<a target=\"_blank\" href=https://colab.research.google.com/notebooks/data_table.ipynb>data table notebook</a>'\n",
              "            + ' to learn more about interactive tables.';\n",
              "          element.innerHTML = '';\n",
              "          dataTable['output_type'] = 'display_data';\n",
              "          await google.colab.output.renderOutput(dataTable, element);\n",
              "          const docLink = document.createElement('div');\n",
              "          docLink.innerHTML = docLinkHtml;\n",
              "          element.appendChild(docLink);\n",
              "        }\n",
              "      </script>\n",
              "    </div>\n",
              "  </div>\n",
              "  "
            ]
          },
          "metadata": {},
          "execution_count": 57
        }
      ]
    },
    {
      "cell_type": "markdown",
      "source": [
        "#Lista de ministros votantes"
      ],
      "metadata": {
        "id": "saerbT4DP_RY"
      }
    },
    {
      "cell_type": "code",
      "source": [
        "#lista de ministros Votantes\n",
        "\n",
        "l_min_final=[]\n",
        "for i in range (0,len(df_min)):\n",
        "  min=df_min['Ministros'][i]\n",
        "  print('*'*10)\n",
        "  print(i+1)\n",
        "  print (df_min['Ministros'][i])\n",
        "  \n",
        "  "
      ],
      "metadata": {
        "id": "cgcXKFqzPxAp",
        "colab": {
          "base_uri": "https://localhost:8080/"
        },
        "outputId": "433e9fac-d4f9-477f-8ef7-82c42e25bb2a"
      },
      "execution_count": 58,
      "outputs": [
        {
          "output_type": "stream",
          "name": "stdout",
          "text": [
            "**********\n",
            "1\n",
            "RICARDO LEWANDOWSKI\n",
            "**********\n",
            "2\n",
            "LUIZ FUX\n",
            "**********\n",
            "3\n",
            "ROSA WEBER\n",
            "**********\n",
            "4\n",
            "CÁRMEN LÚCIA\n",
            "**********\n",
            "5\n",
            "DIAS TOFFOLI\n",
            "**********\n",
            "6\n",
            "GILMAR MENDES\n",
            "**********\n",
            "7\n",
            "ROBERTO BARROSO\n",
            "**********\n",
            "8\n",
            "MARCO AURÉLIO\n",
            "**********\n",
            "9\n",
            "EDSON FACHIN\n",
            "**********\n",
            "10\n",
            "ALEXANDRE DE MORAES\n",
            "**********\n",
            "11\n",
            "CELSO DE MELLO\n",
            "**********\n",
            "12\n",
            "NUNES MARQUES\n",
            "**********\n",
            "13\n",
            "TEORI ZAVASCKI\n",
            "**********\n",
            "14\n",
            "JOAQUIM BARBOSA\n",
            "**********\n",
            "15\n",
            "AYRES BRITTO\n",
            "**********\n",
            "16\n",
            "ANDRÉ MENDONÇA\n",
            "**********\n",
            "17\n",
            "CEZAR PELUSO\n",
            "**********\n",
            "18\n",
            "ELLEN GRACIE\n",
            "**********\n",
            "19\n",
            "EROS GRAU\n",
            "**********\n",
            "20\n",
            "MENEZES DIREITO\n",
            "**********\n",
            "21\n",
            "SEPÚLVEDA PERTENCE\n",
            "**********\n",
            "22\n",
            "NELSON JOBIM\n",
            "**********\n",
            "23\n",
            "CARLOS VELLOSO\n",
            "**********\n",
            "24\n",
            "MAURÍCIO CORRÊA\n"
          ]
        }
      ]
    },
    {
      "cell_type": "markdown",
      "source": [
        "#Lista de Ministros Analisados"
      ],
      "metadata": {
        "id": "PpUw0GAFxySt"
      }
    },
    {
      "cell_type": "code",
      "source": [
        "#lista de ministros a serem analisados\n",
        "l_min_final=[]\n",
        "for i in range (0,len(df_min)):\n",
        "  min=df_min['Ministros'][i]\n",
        "  if df_min['Percent HCs'][i]>=30 and df_min['Percent ADIs'][i]>=30:\n",
        "    print('*'*10)\n",
        "    print(i+1)\n",
        "    print (df_min['Ministros'][i])\n",
        "    l_min_final.append(min)\n",
        "  "
      ],
      "metadata": {
        "id": "tKPQ3U4nV8zB",
        "colab": {
          "base_uri": "https://localhost:8080/"
        },
        "outputId": "87945ee9-0e6d-468a-ec87-cc3dba0eff95"
      },
      "execution_count": 59,
      "outputs": [
        {
          "output_type": "stream",
          "name": "stdout",
          "text": [
            "**********\n",
            "1\n",
            "RICARDO LEWANDOWSKI\n",
            "**********\n",
            "2\n",
            "LUIZ FUX\n",
            "**********\n",
            "3\n",
            "ROSA WEBER\n",
            "**********\n",
            "4\n",
            "CÁRMEN LÚCIA\n",
            "**********\n",
            "5\n",
            "DIAS TOFFOLI\n",
            "**********\n",
            "6\n",
            "GILMAR MENDES\n",
            "**********\n",
            "7\n",
            "ROBERTO BARROSO\n",
            "**********\n",
            "8\n",
            "MARCO AURÉLIO\n",
            "**********\n",
            "9\n",
            "EDSON FACHIN\n",
            "**********\n",
            "10\n",
            "ALEXANDRE DE MORAES\n",
            "**********\n",
            "11\n",
            "CELSO DE MELLO\n"
          ]
        }
      ]
    },
    {
      "cell_type": "markdown",
      "source": [
        "#Salvando Dataset"
      ],
      "metadata": {
        "id": "naTAHgFhx26D"
      }
    },
    {
      "cell_type": "code",
      "source": [
        "l_min_final"
      ],
      "metadata": {
        "id": "B7jj2kmFWMCS",
        "colab": {
          "base_uri": "https://localhost:8080/"
        },
        "outputId": "d2dd073f-882f-4355-e7f4-80cd3a391233"
      },
      "execution_count": 60,
      "outputs": [
        {
          "output_type": "execute_result",
          "data": {
            "text/plain": [
              "['RICARDO LEWANDOWSKI',\n",
              " 'LUIZ FUX',\n",
              " 'ROSA WEBER',\n",
              " 'CÁRMEN LÚCIA',\n",
              " 'DIAS TOFFOLI',\n",
              " 'GILMAR MENDES',\n",
              " 'ROBERTO BARROSO',\n",
              " 'MARCO AURÉLIO',\n",
              " 'EDSON FACHIN',\n",
              " 'ALEXANDRE DE MORAES',\n",
              " 'CELSO DE MELLO']"
            ]
          },
          "metadata": {},
          "execution_count": 60
        }
      ]
    },
    {
      "cell_type": "code",
      "source": [
        "if choice =='6':\n",
        "  dfA_temp = dfA_temp.drop(columns=['HC','Data de julgamento', 'Unanimidade', 'Informacoes', 'Vencidos', 'Tipo'])\n",
        "  dfH_temp = dfH_temp.drop(columns=['HC','Data de julgamento', 'Unanimidade', 'Informacoes', 'Vencidos', 'Tipo'])\n",
        "else:\n",
        "  dfA_temp = dfA_temp.drop(columns=['ADI','Data de julgamento', 'Unanimidade', 'Informacoes', 'Vencidos','Tipo'])\n",
        "  dfH_temp = dfH_temp.drop(columns=['HC','Data de julgamento', 'Unanimidade', 'Informacoes', 'Vencidos', 'Tipo'])\n"
      ],
      "metadata": {
        "id": "Lh9eiGQUwngB"
      },
      "execution_count": 61,
      "outputs": []
    },
    {
      "cell_type": "code",
      "source": [
        "dfA_final = dfA_temp[l_min_final]\n",
        "dfH_final = dfH_temp[l_min_final]"
      ],
      "metadata": {
        "id": "8BcXgDBnW4CG"
      },
      "execution_count": 62,
      "outputs": []
    },
    {
      "cell_type": "code",
      "source": [
        "dfA_final.to_excel(f'ADIs-votos-{recorte}.xlsx',index=False,sheet_name ='Sheet1')"
      ],
      "metadata": {
        "id": "OQkg_6_wzN-S"
      },
      "execution_count": 67,
      "outputs": []
    },
    {
      "cell_type": "code",
      "source": [
        "dfH_final.to_excel(f'HCs-votos-{recorte}.xlsx',index=False,sheet_name ='Sheet1')"
      ],
      "metadata": {
        "id": "rKf8mluE9KNC"
      },
      "execution_count": 68,
      "outputs": []
    }
  ]
}